{
 "cells": [
  {
   "cell_type": "markdown",
   "id": "70a0b730-0a76-4079-8ca4-41c5a341c7ab",
   "metadata": {},
   "source": [
    "# python 文法"
   ]
  },
  {
   "cell_type": "code",
   "execution_count": 1,
   "id": "cdd12d02-ab65-49aa-9528-e49968ffdd04",
   "metadata": {},
   "outputs": [
    {
     "data": {
      "text/plain": [
       "7.0"
      ]
     },
     "execution_count": 1,
     "metadata": {},
     "output_type": "execute_result"
    }
   ],
   "source": [
    "3 + 4.0"
   ]
  },
  {
   "cell_type": "code",
   "execution_count": 2,
   "id": "29f8a285-6154-4cea-82aa-8e781f07c9d9",
   "metadata": {},
   "outputs": [
    {
     "data": {
      "text/plain": [
       "-5"
      ]
     },
     "execution_count": 2,
     "metadata": {},
     "output_type": "execute_result"
    }
   ],
   "source": [
    "4 - 9"
   ]
  },
  {
   "cell_type": "code",
   "execution_count": 3,
   "id": "51558ae5-78f7-40a2-9914-bc937028bdd5",
   "metadata": {},
   "outputs": [
    {
     "data": {
      "text/plain": [
       "15"
      ]
     },
     "execution_count": 3,
     "metadata": {},
     "output_type": "execute_result"
    }
   ],
   "source": [
    "3 * 5"
   ]
  },
  {
   "cell_type": "code",
   "execution_count": 4,
   "id": "d2b153bc-4fa4-4c24-8784-624cb66b4779",
   "metadata": {},
   "outputs": [
    {
     "data": {
      "text/plain": [
       "1.2"
      ]
     },
     "execution_count": 4,
     "metadata": {},
     "output_type": "execute_result"
    }
   ],
   "source": [
    "6 / 5"
   ]
  },
  {
   "cell_type": "code",
   "execution_count": 5,
   "id": "93120d7f-4a9b-436e-9b50-0d96ee197deb",
   "metadata": {},
   "outputs": [
    {
     "data": {
      "text/plain": [
       "625"
      ]
     },
     "execution_count": 5,
     "metadata": {},
     "output_type": "execute_result"
    }
   ],
   "source": [
    "5 ** 4"
   ]
  },
  {
   "cell_type": "code",
   "execution_count": 6,
   "id": "432f6768-0df2-46d1-af1b-46b62edf8d18",
   "metadata": {},
   "outputs": [],
   "source": [
    "# list\n",
    "num_list = [1, 2, 3, 4, 5] "
   ]
  },
  {
   "cell_type": "code",
   "execution_count": 7,
   "id": "a64e7478-241b-4c42-87d4-7e4029e4884e",
   "metadata": {},
   "outputs": [
    {
     "data": {
      "text/plain": [
       "[1, 2, 3, 4, 5]"
      ]
     },
     "execution_count": 7,
     "metadata": {},
     "output_type": "execute_result"
    }
   ],
   "source": [
    "num_list"
   ]
  },
  {
   "cell_type": "code",
   "execution_count": 8,
   "id": "de71e18a-4343-4708-8379-6c00b438f8d1",
   "metadata": {},
   "outputs": [
    {
     "data": {
      "text/plain": [
       "1"
      ]
     },
     "execution_count": 8,
     "metadata": {},
     "output_type": "execute_result"
    }
   ],
   "source": [
    "num_list[0]"
   ]
  },
  {
   "cell_type": "code",
   "execution_count": 9,
   "id": "499e231d-bdb6-404f-a33d-c32b962e224b",
   "metadata": {},
   "outputs": [
    {
     "data": {
      "text/plain": [
       "[1, 2, 3]"
      ]
     },
     "execution_count": 9,
     "metadata": {},
     "output_type": "execute_result"
    }
   ],
   "source": [
    "num_list[:3]"
   ]
  },
  {
   "cell_type": "code",
   "execution_count": 10,
   "id": "ccf1a27c-4bd2-4f58-b1b7-bb709e24e1bd",
   "metadata": {},
   "outputs": [
    {
     "data": {
      "text/plain": [
       "5"
      ]
     },
     "execution_count": 10,
     "metadata": {},
     "output_type": "execute_result"
    }
   ],
   "source": [
    "len(num_list)"
   ]
  },
  {
   "cell_type": "code",
   "execution_count": 11,
   "id": "b3c5d62c-f2d3-4f05-bee6-717307ec8149",
   "metadata": {},
   "outputs": [],
   "source": [
    "num_list.append(6)"
   ]
  },
  {
   "cell_type": "code",
   "execution_count": 12,
   "id": "7e62b0d7-90c1-4fbb-bda4-178aa2150d7c",
   "metadata": {},
   "outputs": [
    {
     "data": {
      "text/plain": [
       "[1, 2, 3, 4, 5, 6]"
      ]
     },
     "execution_count": 12,
     "metadata": {},
     "output_type": "execute_result"
    }
   ],
   "source": [
    "num_list"
   ]
  },
  {
   "cell_type": "code",
   "execution_count": 13,
   "id": "3ff17ae1-122f-41a5-bcee-9052e51ef859",
   "metadata": {},
   "outputs": [
    {
     "data": {
      "text/plain": [
       "6"
      ]
     },
     "execution_count": 13,
     "metadata": {},
     "output_type": "execute_result"
    }
   ],
   "source": [
    "num_list.pop()"
   ]
  },
  {
   "cell_type": "code",
   "execution_count": 14,
   "id": "fce89311-6d0e-43dc-b513-90d8a80b5597",
   "metadata": {},
   "outputs": [
    {
     "data": {
      "text/plain": [
       "[1, 2, 3, 4, 5]"
      ]
     },
     "execution_count": 14,
     "metadata": {},
     "output_type": "execute_result"
    }
   ],
   "source": [
    "num_list"
   ]
  },
  {
   "cell_type": "code",
   "execution_count": 15,
   "id": "836ef441-8461-4004-b423-34a8cbedfd5c",
   "metadata": {},
   "outputs": [],
   "source": [
    "color = (255, 255, 0)"
   ]
  },
  {
   "cell_type": "code",
   "execution_count": 16,
   "id": "83efcf76-80de-4c2c-8428-3797fd21acb6",
   "metadata": {},
   "outputs": [
    {
     "data": {
      "text/plain": [
       "(255, 255, 0)"
      ]
     },
     "execution_count": 16,
     "metadata": {},
     "output_type": "execute_result"
    }
   ],
   "source": [
    "color"
   ]
  },
  {
   "cell_type": "code",
   "execution_count": 17,
   "id": "8115aa8b-4aa5-4040-b6e4-511a0306a70c",
   "metadata": {},
   "outputs": [
    {
     "data": {
      "text/plain": [
       "255"
      ]
     },
     "execution_count": 17,
     "metadata": {},
     "output_type": "execute_result"
    }
   ],
   "source": [
    "color[0]"
   ]
  },
  {
   "cell_type": "code",
   "execution_count": 18,
   "id": "3678d01f-0b9e-4d63-8a36-134a689330fd",
   "metadata": {},
   "outputs": [],
   "source": [
    "num_list[3] = 100"
   ]
  },
  {
   "cell_type": "code",
   "execution_count": 19,
   "id": "e31240f4-c4e7-4a58-9700-c40aa0a7a10f",
   "metadata": {},
   "outputs": [
    {
     "data": {
      "text/plain": [
       "[1, 2, 3, 100, 5]"
      ]
     },
     "execution_count": 19,
     "metadata": {},
     "output_type": "execute_result"
    }
   ],
   "source": [
    "num_list"
   ]
  },
  {
   "cell_type": "code",
   "execution_count": 20,
   "id": "a52f2644-a229-47ce-b563-875966f7557f",
   "metadata": {},
   "outputs": [
    {
     "ename": "TypeError",
     "evalue": "'tuple' object does not support item assignment",
     "output_type": "error",
     "traceback": [
      "\u001b[0;31m---------------------------------------------------------------------------\u001b[0m",
      "\u001b[0;31mTypeError\u001b[0m                                 Traceback (most recent call last)",
      "\u001b[0;32m/var/folders/1h/wby94jmx3xg3zkmtc88fk5q80000gn/T/ipykernel_6681/2131694592.py\u001b[0m in \u001b[0;36m<module>\u001b[0;34m\u001b[0m\n\u001b[0;32m----> 1\u001b[0;31m \u001b[0mcolor\u001b[0m\u001b[0;34m[\u001b[0m\u001b[0;36m2\u001b[0m\u001b[0;34m]\u001b[0m \u001b[0;34m=\u001b[0m \u001b[0;36m100\u001b[0m\u001b[0;34m\u001b[0m\u001b[0;34m\u001b[0m\u001b[0m\n\u001b[0m",
      "\u001b[0;31mTypeError\u001b[0m: 'tuple' object does not support item assignment"
     ]
    }
   ],
   "source": [
    "color[2] = 100"
   ]
  },
  {
   "cell_type": "code",
   "execution_count": 22,
   "id": "99f75ab8-4c7c-4968-b59b-b6d2fb0d1b17",
   "metadata": {},
   "outputs": [
    {
     "name": "stdout",
     "output_type": "stream",
     "text": [
      "0\n",
      "1\n",
      "2\n",
      "3\n",
      "4\n"
     ]
    }
   ],
   "source": [
    "for i in range(5):\n",
    "    print(i)"
   ]
  },
  {
   "cell_type": "code",
   "execution_count": 24,
   "id": "0ac6e9be-a1dc-4c47-b3f7-db86c90841fe",
   "metadata": {},
   "outputs": [
    {
     "name": "stdout",
     "output_type": "stream",
     "text": [
      "0 1\n",
      "1 2\n",
      "2 3\n",
      "3 100\n",
      "4 5\n"
     ]
    }
   ],
   "source": [
    "for i,j in enumerate(num_list):\n",
    "    print(i, j)"
   ]
  },
  {
   "cell_type": "code",
   "execution_count": 26,
   "id": "329608e4-d79c-481a-8723-110557578a04",
   "metadata": {},
   "outputs": [
    {
     "name": "stdout",
     "output_type": "stream",
     "text": [
      "yes\n"
     ]
    }
   ],
   "source": [
    "a = 1\n",
    "if a == 1:\n",
    "    print(\"yes\")\n",
    "else:\n",
    "    print('no')"
   ]
  },
  {
   "cell_type": "code",
   "execution_count": 28,
   "id": "a0c2f9b6-1c96-46ac-84c1-e120286ec9a3",
   "metadata": {},
   "outputs": [
    {
     "name": "stdout",
     "output_type": "stream",
     "text": [
      "0\n",
      "1\n",
      "2\n",
      "3\n",
      "4\n",
      "5\n"
     ]
    }
   ],
   "source": [
    "for i in range(10):\n",
    "    print(i)\n",
    "    if i == 5:\n",
    "        break"
   ]
  },
  {
   "cell_type": "code",
   "execution_count": 29,
   "id": "2268742f-2a04-4623-bcfe-0a4f7edf9de8",
   "metadata": {},
   "outputs": [
    {
     "name": "stdout",
     "output_type": "stream",
     "text": [
      "10\n",
      "9\n",
      "8\n",
      "7\n",
      "6\n",
      "5\n",
      "4\n",
      "3\n",
      "2\n",
      "1\n"
     ]
    }
   ],
   "source": [
    "b = 10\n",
    "while b > 0:\n",
    "    print(b)\n",
    "    b = b - 1"
   ]
  },
  {
   "cell_type": "code",
   "execution_count": 30,
   "id": "507e030a-72b0-44c1-8ead-9f96a5d68263",
   "metadata": {},
   "outputs": [],
   "source": [
    "def distance(x, y, z):\n",
    "    dis = (x ** 2 + y ** 2 + z ** 2) ** 0.5\n",
    "    return dis"
   ]
  },
  {
   "cell_type": "code",
   "execution_count": 31,
   "id": "e6038737-76aa-42dc-a466-7ce8877d6c3e",
   "metadata": {},
   "outputs": [
    {
     "data": {
      "text/plain": [
       "3.7416573867739413"
      ]
     },
     "execution_count": 31,
     "metadata": {},
     "output_type": "execute_result"
    }
   ],
   "source": [
    "distance(1, 2, 3)"
   ]
  },
  {
   "cell_type": "markdown",
   "id": "50a1f521-5601-4046-8f1e-f95a6ebb371d",
   "metadata": {},
   "source": [
    "## module\n",
    "- import で様々な関数を持ってくる事によって簡単に関数を使用できる"
   ]
  },
  {
   "cell_type": "code",
   "execution_count": 33,
   "id": "0e6eda07-0e49-4f73-8d18-43e2eff5de59",
   "metadata": {},
   "outputs": [],
   "source": [
    "import numpy as np\n",
    "import random\n",
    "import matplotlib.pyplot as plt\n",
    "import os\n",
    "%matplotlib inline"
   ]
  },
  {
   "cell_type": "code",
   "execution_count": 34,
   "id": "9450ccc2-3333-45c9-b549-5280dda601f0",
   "metadata": {},
   "outputs": [],
   "source": [
    "os.mkdir(\"test\")"
   ]
  },
  {
   "cell_type": "code",
   "execution_count": 36,
   "id": "7f54a409-56e9-4bed-8df4-eab3373dc359",
   "metadata": {},
   "outputs": [
    {
     "data": {
      "text/plain": [
       "['opticalflow.ipynb',\n",
       " 'image_analysis.ipynb',\n",
       " 'morphologyEx.ipynb',\n",
       " 'face_detection.ipynb',\n",
       " '.DS_Store',\n",
       " 'extraction_contours.ipynb',\n",
       " 'test',\n",
       " 'inpaint.ipynb',\n",
       " 'requirements_bk.txt',\n",
       " 'output',\n",
       " 'meanshift_camshift.ipynb',\n",
       " '__pycache__',\n",
       " 'praticle.ipynb',\n",
       " 'lines_circles.ipynb',\n",
       " 'README.md',\n",
       " 'python_basic.ipynb',\n",
       " 'image_processing_basic.ipynb',\n",
       " 'background_difference.ipynb',\n",
       " 'feature_extraction.ipynb',\n",
       " '.gitignore',\n",
       " 'random2.py',\n",
       " 'static',\n",
       " 'blob.ipynb',\n",
       " '.ipynb_checkpoints',\n",
       " 'uninstall.txt',\n",
       " 'venv',\n",
       " 'color_ detection.ipynb',\n",
       " 'likelihood.py',\n",
       " '.git',\n",
       " 'data',\n",
       " 'reference']"
      ]
     },
     "execution_count": 36,
     "metadata": {},
     "output_type": "execute_result"
    }
   ],
   "source": [
    "os.listdir()"
   ]
  },
  {
   "cell_type": "code",
   "execution_count": 46,
   "id": "908c0012-3879-497e-b720-1f155d3e6220",
   "metadata": {},
   "outputs": [],
   "source": [
    "# array numpy における list のような存在\n",
    "num_arr = np.array([1, 2, 3, 4, 5])"
   ]
  },
  {
   "cell_type": "code",
   "execution_count": 47,
   "id": "cbb08a77-888e-4ce0-b188-765a587eea25",
   "metadata": {},
   "outputs": [
    {
     "data": {
      "text/plain": [
       "array([1, 2, 3, 4, 5])"
      ]
     },
     "execution_count": 47,
     "metadata": {},
     "output_type": "execute_result"
    }
   ],
   "source": [
    "num_arr"
   ]
  },
  {
   "cell_type": "code",
   "execution_count": 48,
   "id": "bd2b6896-6bd2-4cfd-b18c-213473ce70d9",
   "metadata": {},
   "outputs": [],
   "source": [
    "num_arr2 = np.ones(5)"
   ]
  },
  {
   "cell_type": "code",
   "execution_count": 49,
   "id": "b27bc6ef-94c4-4dd5-8da4-1d0ae6e3a8ea",
   "metadata": {},
   "outputs": [
    {
     "data": {
      "text/plain": [
       "array([1., 1., 1., 1., 1.])"
      ]
     },
     "execution_count": 49,
     "metadata": {},
     "output_type": "execute_result"
    }
   ],
   "source": [
    "num_arr2"
   ]
  },
  {
   "cell_type": "code",
   "execution_count": 50,
   "id": "9709e446-135c-4251-a6b5-f2a63f82002f",
   "metadata": {},
   "outputs": [],
   "source": [
    "num_arr3 = np.zeros((4, 4))"
   ]
  },
  {
   "cell_type": "code",
   "execution_count": 51,
   "id": "642a3458-12af-4521-b1bc-2ca20fc30169",
   "metadata": {},
   "outputs": [
    {
     "data": {
      "text/plain": [
       "array([[0., 0., 0., 0.],\n",
       "       [0., 0., 0., 0.],\n",
       "       [0., 0., 0., 0.],\n",
       "       [0., 0., 0., 0.]])"
      ]
     },
     "execution_count": 51,
     "metadata": {},
     "output_type": "execute_result"
    }
   ],
   "source": [
    "num_arr3"
   ]
  },
  {
   "cell_type": "code",
   "execution_count": 52,
   "id": "8ff437d5-3095-40ea-8462-55765c3e0359",
   "metadata": {},
   "outputs": [
    {
     "data": {
      "text/plain": [
       "array([2., 3., 4., 5., 6.])"
      ]
     },
     "execution_count": 52,
     "metadata": {},
     "output_type": "execute_result"
    }
   ],
   "source": [
    "num_arr + num_arr2"
   ]
  },
  {
   "cell_type": "markdown",
   "id": "73c9ee0a-79b6-4368-ae24-efcba6a3c5ae",
   "metadata": {},
   "source": [
    "#### numpy array にする事により様々な演算が簡単にできるようになる"
   ]
  },
  {
   "cell_type": "code",
   "execution_count": 53,
   "id": "c45108bf-9662-42a5-9af3-57d000413513",
   "metadata": {},
   "outputs": [
    {
     "data": {
      "text/plain": [
       "(4, 4)"
      ]
     },
     "execution_count": 53,
     "metadata": {},
     "output_type": "execute_result"
    }
   ],
   "source": [
    "num_arr3.shape"
   ]
  },
  {
   "cell_type": "markdown",
   "id": "f9766c5a-27ee-4015-a9db-5cd2eb122aec",
   "metadata": {},
   "source": [
    "4 * 4 のマトリックという形を返す"
   ]
  },
  {
   "cell_type": "code",
   "execution_count": 54,
   "id": "c5b52589-0c23-41dc-b8f2-ef7eaf75c78d",
   "metadata": {},
   "outputs": [],
   "source": [
    "a, b = num_arr3.shape"
   ]
  },
  {
   "cell_type": "code",
   "execution_count": 55,
   "id": "39e0d51e-635c-4711-90f4-ca0167976752",
   "metadata": {},
   "outputs": [
    {
     "data": {
      "text/plain": [
       "4"
      ]
     },
     "execution_count": 55,
     "metadata": {},
     "output_type": "execute_result"
    }
   ],
   "source": [
    "a"
   ]
  },
  {
   "cell_type": "code",
   "execution_count": 56,
   "id": "e4771107-ba22-4b52-be03-9626282cb1b8",
   "metadata": {},
   "outputs": [
    {
     "data": {
      "text/plain": [
       "4"
      ]
     },
     "execution_count": 56,
     "metadata": {},
     "output_type": "execute_result"
    }
   ],
   "source": [
    "b"
   ]
  },
  {
   "cell_type": "code",
   "execution_count": 57,
   "id": "7bf68d39-543d-4763-b6e7-db4d4bafab63",
   "metadata": {},
   "outputs": [
    {
     "data": {
      "text/plain": [
       "array([0, 1, 2, 3, 4, 5, 6, 7, 8])"
      ]
     },
     "execution_count": 57,
     "metadata": {},
     "output_type": "execute_result"
    }
   ],
   "source": [
    "np.arange(9)"
   ]
  },
  {
   "cell_type": "code",
   "execution_count": 58,
   "id": "344a4e6b-d384-4631-a598-e11026a8a1ef",
   "metadata": {},
   "outputs": [
    {
     "data": {
      "text/plain": [
       "(array([0, 1, 2, 3, 4]),)"
      ]
     },
     "execution_count": 58,
     "metadata": {},
     "output_type": "execute_result"
    }
   ],
   "source": [
    "np.where(num_arr2)"
   ]
  },
  {
   "cell_type": "markdown",
   "id": "822909ea-b574-499a-8220-b3d1ca70eb4c",
   "metadata": {},
   "source": [
    "### where は if文の様な条件式"
   ]
  },
  {
   "cell_type": "code",
   "execution_count": 59,
   "id": "7b36dfcf-7c46-4efa-8fe2-92b1963e2029",
   "metadata": {},
   "outputs": [
    {
     "data": {
      "text/plain": [
       "array([0, 0, 0, 0, 0])"
      ]
     },
     "execution_count": 59,
     "metadata": {},
     "output_type": "execute_result"
    }
   ],
   "source": [
    "np.where(num_arr2 > 1, 1, 0)"
   ]
  },
  {
   "cell_type": "markdown",
   "id": "eb355a5d-32be-4beb-8e9f-0e428a0aa4c1",
   "metadata": {},
   "source": [
    "- num_arr2 が 1 より大き場合は 1 を返す。そうでない場合は 0 を返すという Program code\n",
    "\n",
    "- ある条件が満たされる場合はこちら、そうでない場合はこちらというような条件式を作ることができる"
   ]
  },
  {
   "cell_type": "code",
   "execution_count": 60,
   "id": "ce245397-6ec2-42c1-9fed-ebaa86a21b73",
   "metadata": {},
   "outputs": [
    {
     "data": {
      "text/plain": [
       "2"
      ]
     },
     "execution_count": 60,
     "metadata": {},
     "output_type": "execute_result"
    }
   ],
   "source": [
    "random.choice([1, 2, 3])"
   ]
  },
  {
   "cell_type": "code",
   "execution_count": 61,
   "id": "88c39f29-f716-41a7-9f09-f65b35ef490b",
   "metadata": {},
   "outputs": [
    {
     "data": {
      "text/plain": [
       "3"
      ]
     },
     "execution_count": 61,
     "metadata": {},
     "output_type": "execute_result"
    }
   ],
   "source": [
    "random.choice([1, 2, 3])"
   ]
  },
  {
   "cell_type": "code",
   "execution_count": 62,
   "id": "ffe7ad5b-3b44-4fe2-b6b3-12dc0096ce56",
   "metadata": {},
   "outputs": [
    {
     "data": {
      "text/plain": [
       "1"
      ]
     },
     "execution_count": 62,
     "metadata": {},
     "output_type": "execute_result"
    }
   ],
   "source": [
    "random.choice([1, 2, 3])"
   ]
  },
  {
   "cell_type": "markdown",
   "id": "942d95fe-69d1-4547-905f-35c657e42afd",
   "metadata": {},
   "source": [
    "random.choice([1, 2, 3]) を使用すると、 list の中のモノを random に出力する"
   ]
  },
  {
   "cell_type": "code",
   "execution_count": 64,
   "id": "1868bb04-1e25-468a-b1ba-1dd892011061",
   "metadata": {},
   "outputs": [
    {
     "data": {
      "text/plain": [
       "[<matplotlib.lines.Line2D at 0x11cf0ea60>]"
      ]
     },
     "execution_count": 64,
     "metadata": {},
     "output_type": "execute_result"
    },
    {
     "data": {
      "image/png": "[encoded data removed]",
      "text/plain": [
       "<Figure size 432x288 with 1 Axes>"
      ]
     },
     "metadata": {
      "needs_background": "light"
     },
     "output_type": "display_data"
    }
   ],
   "source": [
    "x = np.arange(0, 10, 0.01)  # 0 ~ 10 手前まで 0.01 刻みで配列する\n",
    "y = np.sin(x)\n",
    "plt.plot(x, y)"
   ]
  },
  {
   "cell_type": "code",
   "execution_count": 67,
   "id": "155dd926-d68f-44e0-887b-01e0e5bd24dd",
   "metadata": {},
   "outputs": [
    {
     "data": {
      "text/plain": [
       "array([0, 8, 3, 6, 8])"
      ]
     },
     "execution_count": 67,
     "metadata": {},
     "output_type": "execute_result"
    }
   ],
   "source": [
    "np.random.randint(10, size=5)  # 0 ~ 10 前までの整数の内から random に 5 個取得する"
   ]
  },
  {
   "cell_type": "code",
   "execution_count": null,
   "id": "2f48c12c-bc44-4d03-bddd-f6c8608d76d5",
   "metadata": {},
   "outputs": [],
   "source": []
  }
 ],
 "metadata": {
  "kernelspec": {
   "display_name": "Python 3 (ipykernel)",
   "language": "python",
   "name": "python3"
  },
  "language_info": {
   "codemirror_mode": {
    "name": "ipython",
    "version": 3
   },
   "file_extension": ".py",
   "mimetype": "text/x-python",
   "name": "python",
   "nbconvert_exporter": "python",
   "pygments_lexer": "ipython3",
   "version": "3.9.6"
  }
 },
 "nbformat": 4,
 "nbformat_minor": 5
}
