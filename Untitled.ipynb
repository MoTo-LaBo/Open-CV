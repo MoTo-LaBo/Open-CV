{
 "cells": [
  {
   "cell_type": "markdown",
   "id": "e628b600-6f6b-4e50-8a96-59a3bb8409a1",
   "metadata": {},
   "source": [
    "# 動画処理・動画解析"
   ]
  },
  {
   "cell_type": "markdown",
   "id": "c1e0e5a7-d68a-49a1-973e-54055a15d32c",
   "metadata": {},
   "source": [
    "## オプティカルフロー\n",
    "- 特徴点を見つけて、追いかけていく画像処理\n",
    "\n",
    "1. 特徴点を見つける\n",
    "2. 特徴点とその周りは同じ方向を向くとして、流れを出す\n",
    "3. 1, 2 を繰り返す"
   ]
  }
 ],
 "metadata": {
  "kernelspec": {
   "display_name": "Python 3 (ipykernel)",
   "language": "python",
   "name": "python3"
  },
  "language_info": {
   "codemirror_mode": {
    "name": "ipython",
    "version": 3
   },
   "file_extension": ".py",
   "mimetype": "text/x-python",
   "name": "python",
   "nbconvert_exporter": "python",
   "pygments_lexer": "ipython3",
   "version": "3.9.6"
  }
 },
 "nbformat": 4,
 "nbformat_minor": 5
}
