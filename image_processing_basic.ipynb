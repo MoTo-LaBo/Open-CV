{
 "cells": [
  {
   "cell_type": "markdown",
   "id": "2f295d99-7fb4-4949-9dfc-ec4d19665c78",
   "metadata": {},
   "source": [
    "# 画像処理の基礎"
   ]
  },
  {
   "cell_type": "markdown",
   "id": "51929206-bf1b-4eda-89f4-69ba8d6c280c",
   "metadata": {},
   "source": [
    "## 画像の表示・出力"
   ]
  },
  {
   "cell_type": "code",
   "execution_count": 4,
   "id": "bfb900dc-f7d2-4189-b76f-a20b75bb12f6",
   "metadata": {},
   "outputs": [],
   "source": [
    "import cv2\n",
    "import IPython\n",
    "import os"
   ]
  },
  {
   "cell_type": "code",
   "execution_count": 2,
   "id": "72a4fead-d8bf-4740-a603-1d372c2d4928",
   "metadata": {},
   "outputs": [],
   "source": [
    "img = cv2.imread('data/src/Berry.jpg')"
   ]
  },
  {
   "cell_type": "code",
   "execution_count": 3,
   "id": "4756f8de-fb2d-4661-b66d-cd5e70ee5a95",
   "metadata": {},
   "outputs": [
    {
     "data": {
      "text/plain": [
       "(589, 960, 3)"
      ]
     },
     "execution_count": 3,
     "metadata": {},
     "output_type": "execute_result"
    }
   ],
   "source": [
    "img.shape"
   ]
  },
  {
   "cell_type": "code",
   "execution_count": 4,
   "id": "f922aae4-f85f-4bd6-be8d-8eae9efd04ef",
   "metadata": {},
   "outputs": [
    {
     "data": {
      "text/plain": [
       "array([128, 176, 194], dtype=uint8)"
      ]
     },
     "execution_count": 4,
     "metadata": {},
     "output_type": "execute_result"
    }
   ],
   "source": [
    "img[0][0]"
   ]
  },
  {
   "cell_type": "code",
   "execution_count": 11,
   "id": "898ee7bf-854d-459b-8c9c-b09746a3668d",
   "metadata": {},
   "outputs": [
    {
     "data": {
      "text/plain": [
       "-1"
      ]
     },
     "execution_count": 11,
     "metadata": {},
     "output_type": "execute_result"
    }
   ],
   "source": [
    "cv2.imshow(\"img\", img)   # 画像表示のメソッド　 → 画像の名前 : 表示する対象（渡すもの）\n",
    "cv2.waitKey(0)           # お約束 :　引数の中に入れた数に応じてキーが押されるまでの秒数を決めることができる。　０は押されるまで待つ\n",
    "cv2.destroyAllWindows()  # 画像表示する際に、img window ができる。それが役目を終えたら、window を壊す役割を持っている\n",
    "cv2.waitKey(1)"
   ]
  },
  {
   "cell_type": "markdown",
   "id": "169e9b21-7f45-4db0-99e9-61faf63da7db",
   "metadata": {},
   "source": [
    "destroyWindow( )やdestroyAllWindows( )のあとに実行するwaitKey( )の引数を0や無しとすると、  \n",
    "ウィンドウは閉じられるがウィンドウがキー入力を無期限に待ち続ける」という状態となり、  \n",
    "プロンプトも待受け状態のまま何のキー入力も受け付けなくなる（場合がある）ためシェルなどのプロセスごと終了せざるを得なくなるので注意"
   ]
  },
  {
   "cell_type": "code",
   "execution_count": null,
   "id": "45cde58f-3555-499d-ae58-83f5e61cf7f8",
   "metadata": {},
   "outputs": [],
   "source": [
    "os.mkidr(\"./output\")"
   ]
  },
  {
   "cell_type": "code",
   "execution_count": 10,
   "id": "fb8de6c4-9adf-4cfd-84c7-acdb2713c54b",
   "metadata": {},
   "outputs": [
    {
     "data": {
      "text/plain": [
       "True"
      ]
     },
     "execution_count": 10,
     "metadata": {},
     "output_type": "execute_result"
    }
   ],
   "source": [
    "cv2.imwrite(\"output/test.jpg\", img)"
   ]
  },
  {
   "cell_type": "markdown",
   "id": "4ddf783f-3bea-41e2-9ec5-a104711fca8e",
   "metadata": {},
   "source": [
    "## 動画の表示・出力"
   ]
  },
  {
   "cell_type": "code",
   "execution_count": 12,
   "id": "4b6242d2-9a1b-40f5-bd8f-3e7c3b4fc521",
   "metadata": {},
   "outputs": [],
   "source": [
    "import cv2\n",
    "import sys"
   ]
  },
  {
   "cell_type": "code",
   "execution_count": 21,
   "id": "85905b01-928f-48da-982b-5c9a44864ac9",
   "metadata": {},
   "outputs": [],
   "source": [
    "cap = cv2.VideoCapture(\"data/movie/Cosmos.mp4\")  # 動画を読み込む\n",
    "if cap.isOpened() == False:                 # if文を使用して正しく読み込めたか判定する\n",
    "    sys.exit()                              # False の場合はプログラムから抜け出す\n",
    "ret, frame = cap.read()                     # 正しく読み込めている場合は 1frame read (１フレームだけ動画を読み込む)2つ値が返ってくる。　\n",
    "                                            # ret -> returnの略[真偽値が入る（true or false）正しく読み込めたかどうか], frame: 実際の１フレームの画像が格納されている\n",
    "h, w = frame.shape[:2]                      # y,x,color \n",
    "fourcc = cv2.VideoWriter_fourcc(*\"XVID\")      # wirte setting\n",
    "dst = cv2.VideoWriter(\"output/test.avi\", fourcc, 30.0, (w, h))  # 動画の書き込み（出力先：コーデック設定：FPSの設定１秒間に何フレーム進めるか：動画の解像度）\n",
    "\n",
    "# 上記は動画を再生させる前段階の設定。読み込みと表示のさせ方\n",
    "\n",
    "# メインのプログラム\n",
    "while True:\n",
    "    ret, frame = cap.read()\n",
    "    if ret == False:\n",
    "        break\n",
    "    cv2.imshow(\"img\", frame)\n",
    "    dst.write(frame)\n",
    "    if cv2.waitKey(30) == 27:  # 27 -> esc key\n",
    "        break\n",
    "cv2.destroyAllWindows()\n",
    "cv2.waitKey(1)\n",
    "cap.release()"
   ]
  },
  {
   "cell_type": "markdown",
   "id": "48580c93-b9bb-4e4c-8cc6-fc4aeab6f955",
   "metadata": {},
   "source": [
    "## ウィンドウの調整"
   ]
  },
  {
   "cell_type": "code",
   "execution_count": 8,
   "id": "406e55b3-395b-4cdf-9894-e6f5c3bcb306",
   "metadata": {},
   "outputs": [
    {
     "data": {
      "text/plain": [
       "-1"
      ]
     },
     "execution_count": 8,
     "metadata": {},
     "output_type": "execute_result"
    }
   ],
   "source": [
    "img = cv2.imread(\"data/src/Lena.jpg\")\n",
    "cv2.namedWindow(\"window\", cv2.WINDOW_AUTOSIZE)  # window を オートで設定してくれる\n",
    "cv2.imshow(\"window\", img)\n",
    "cv2.waitKey(0)\n",
    "cv2.destroyAllWindows()\n",
    "cv2.waitKey(1)"
   ]
  },
  {
   "cell_type": "code",
   "execution_count": 12,
   "id": "d0136547-64d6-4b30-b897-1d9a831705b1",
   "metadata": {},
   "outputs": [
    {
     "data": {
      "text/plain": [
       "-1"
      ]
     },
     "execution_count": 12,
     "metadata": {},
     "output_type": "execute_result"
    }
   ],
   "source": [
    "cv2.namedWindow(\"window\", cv2.WINDOW_NORMAL)  # window を可変的に設定・変更できる\n",
    "cv2.imshow(\"window\", img)\n",
    "cv2.waitKey(0)\n",
    "cv2.destroyAllWindows()\n",
    "cv2.waitKey(1)"
   ]
  },
  {
   "cell_type": "code",
   "execution_count": 13,
   "id": "2916f5b4-2a28-4695-b88a-51e9a7e187eb",
   "metadata": {},
   "outputs": [
    {
     "data": {
      "text/plain": [
       "-1"
      ]
     },
     "execution_count": 13,
     "metadata": {},
     "output_type": "execute_result"
    }
   ],
   "source": [
    "cv2.namedWindow(\"window\", cv2.WINDOW_NORMAL)  # window を可変的に設定・変更できる\n",
    "cv2.resizeWindow(\"window\", 640, 480)\n",
    "cv2.imshow(\"window\", img)\n",
    "cv2.waitKey(0)\n",
    "cv2.destroyAllWindows()\n",
    "cv2.waitKey(1)"
   ]
  },
  {
   "cell_type": "markdown",
   "id": "a3b6d949-8739-48d9-b4b6-182eee8605c1",
   "metadata": {},
   "source": [
    "## resize"
   ]
  },
  {
   "cell_type": "code",
   "execution_count": 16,
   "id": "1b77973c-11a8-4850-8f18-eb3aa27e799f",
   "metadata": {},
   "outputs": [
    {
     "name": "stderr",
     "output_type": "stream",
     "text": [
      "2021-08-16 15:52:23.641 python3.9[37584:1164569] _TIPropertyValueIsValid called with 4 on nil context!\n",
      "2021-08-16 15:52:23.641 python3.9[37584:1164569] imkxpc_getApplicationProperty:reply: called with incorrect property value 4, bailing.\n",
      "2021-08-16 15:52:23.641 python3.9[37584:1164569] Text input context does not respond to _valueForTIProperty:\n",
      "2021-08-16 15:52:23.642 python3.9[37584:1164569] _TIPropertyValueIsValid called with 4 on nil context!\n",
      "2021-08-16 15:52:23.642 python3.9[37584:1164569] imkxpc_getApplicationProperty:reply: called with incorrect property value 4, bailing.\n",
      "2021-08-16 15:52:23.642 python3.9[37584:1164569] Text input context does not respond to _valueForTIProperty:\n"
     ]
    },
    {
     "data": {
      "text/plain": [
       "-1"
      ]
     },
     "execution_count": 16,
     "metadata": {},
     "output_type": "execute_result"
    }
   ],
   "source": [
    "img = cv2.imread(\"data/src/grapes.jpg\")\n",
    "cv2.imshow(\"img\", img)\n",
    "cv2.waitKey(0)\n",
    "cv2.destroyAllWindows()\n",
    "cv2.waitKey(1)"
   ]
  },
  {
   "cell_type": "code",
   "execution_count": 17,
   "id": "e3bb85df-aa39-4e67-80e3-a4ea12b7e5bd",
   "metadata": {},
   "outputs": [
    {
     "data": {
      "text/plain": [
       "(640, 960, 3)"
      ]
     },
     "execution_count": 17,
     "metadata": {},
     "output_type": "execute_result"
    }
   ],
   "source": [
    "img.shape"
   ]
  },
  {
   "cell_type": "markdown",
   "id": "4d8c37e6-8c9a-4d8d-8a34-f04b5930a63d",
   "metadata": {},
   "source": [
    "### image size setting"
   ]
  },
  {
   "cell_type": "code",
   "execution_count": 24,
   "id": "c948826b-2ffb-4cc0-9f9f-bd3c3c99b97b",
   "metadata": {},
   "outputs": [],
   "source": [
    "size = (300, 200)  # width:hieht , tuple 型でサイズを指定。こちらは、幅：高さの順番なので注意\n",
    "img_resize = cv2.resize(img, size)"
   ]
  },
  {
   "cell_type": "code",
   "execution_count": 25,
   "id": "d42a1185-43d8-46f4-b1fb-72305974c393",
   "metadata": {},
   "outputs": [
    {
     "data": {
      "text/plain": [
       "(200, 300, 3)"
      ]
     },
     "execution_count": 25,
     "metadata": {},
     "output_type": "execute_result"
    }
   ],
   "source": [
    "img_resize.shape"
   ]
  },
  {
   "cell_type": "code",
   "execution_count": 28,
   "id": "67a604c3-445a-4131-81f8-545eee271510",
   "metadata": {},
   "outputs": [
    {
     "data": {
      "text/plain": [
       "-1"
      ]
     },
     "execution_count": 28,
     "metadata": {},
     "output_type": "execute_result"
    }
   ],
   "source": [
    "cv2.imshow(\"resize\", img_resize)\n",
    "cv2.waitKey(0)\n",
    "cv2.destroyAllWindows()\n",
    "cv2.waitKey(1)"
   ]
  },
  {
   "cell_type": "markdown",
   "id": "3e28acd0-4306-4222-ab6e-8352e20be3d3",
   "metadata": {},
   "source": [
    "### 画像圧縮のその他の方法"
   ]
  },
  {
   "cell_type": "code",
   "execution_count": 30,
   "id": "9a52f2b6-3914-4cd4-8fb5-9c880776ca19",
   "metadata": {},
   "outputs": [
    {
     "name": "stderr",
     "output_type": "stream",
     "text": [
      "2021-08-16 16:09:51.018 python3.9[37584:1164569] IMKClient Stall detected, *please Report* your user scenario attaching a spindump (or sysdiagnose) that captures the problem - (imkxpc_dismissFunctionRowItemTextInputViewWithReply:) block performed very slowly (27.16 secs).\n",
      "2021-08-16 16:09:51.018 python3.9[37584:1164569] _TIPropertyValueIsValid called with 4 on nil context!\n",
      "2021-08-16 16:09:51.018 python3.9[37584:1164569] imkxpc_getApplicationProperty:reply: called with incorrect property value 4, bailing.\n",
      "2021-08-16 16:09:51.018 python3.9[37584:1164569] Text input context does not respond to _valueForTIProperty:\n",
      "2021-08-16 16:09:51.018 python3.9[37584:1164569] _TIPropertyValueIsValid called with 4 on nil context!\n",
      "2021-08-16 16:09:51.018 python3.9[37584:1164569] imkxpc_getApplicationProperty:reply: called with incorrect property value 4, bailing.\n",
      "2021-08-16 16:09:51.018 python3.9[37584:1164569] Text input context does not respond to _valueForTIProperty:\n",
      "2021-08-16 16:09:51.018 python3.9[37584:1164569] IMKClient Stall detected, *please Report* your user scenario attaching a spindump (or sysdiagnose) that captures the problem - (imkxpc_dismissFunctionRowItemTextInputViewWithReply:) block performed very slowly (22.17 secs).\n",
      "2021-08-16 16:09:51.019 python3.9[37584:1164569] IMKClient Stall detected, *please Report* your user scenario attaching a spindump (or sysdiagnose) that captures the problem - (imkxpc_presentFunctionRowItemTextInputViewWithEndpoint:reply:) block performed very slowly (20.17 secs).\n"
     ]
    },
    {
     "data": {
      "text/plain": [
       "-1"
      ]
     },
     "execution_count": 30,
     "metadata": {},
     "output_type": "execute_result"
    }
   ],
   "source": [
    "img_area = cv2.resize(img, size, interpolation = cv2.INTER_AREA)  # interpolation = cv2.INTER_AREA :圧縮方法\n",
    "img_linear = cv2.resize(img, size, interpolation = cv2.INTER_LINEAR)  # interlinear の方が優れている：　デフォルトで設定されている\n",
    "cv2.imshow(\"area\", img_area)\n",
    "cv2.imshow(\"linear\", img_linear)\n",
    "cv2.waitKey(0)\n",
    "cv2.destroyAllWindows()\n",
    "cv2.waitKey(1)"
   ]
  },
  {
   "cell_type": "markdown",
   "id": "4011757e-58c4-46ee-8036-fbb899b113f2",
   "metadata": {},
   "source": [
    "## 色空間・グレースケール"
   ]
  },
  {
   "cell_type": "code",
   "execution_count": 33,
   "id": "3776036a-a1af-4817-b9b7-291a1c249bd2",
   "metadata": {},
   "outputs": [],
   "source": [
    "img = cv2.imread(\"data/src/grapes.jpg\")\n",
    "img_gray = cv2.cvtColor(img, cv2.COLOR_BGR2GRAY)  # BGR -> gray \n",
    "img_hsv = cv2.cvtColor(img, cv2.COLOR_BGR2HSV)       # BGR -> HSV"
   ]
  },
  {
   "cell_type": "code",
   "execution_count": 36,
   "id": "222e981e-004f-4432-89f9-3dbcbef87d99",
   "metadata": {},
   "outputs": [
    {
     "data": {
      "text/plain": [
       "(640, 960)"
      ]
     },
     "execution_count": 36,
     "metadata": {},
     "output_type": "execute_result"
    }
   ],
   "source": [
    "img_gray.shape"
   ]
  },
  {
   "cell_type": "code",
   "execution_count": 37,
   "id": "04099510-2e91-40d8-bc1f-c69b01eaf960",
   "metadata": {},
   "outputs": [
    {
     "data": {
      "text/plain": [
       "(640, 960, 3)"
      ]
     },
     "execution_count": 37,
     "metadata": {},
     "output_type": "execute_result"
    }
   ],
   "source": [
    "img_hsv.shape"
   ]
  },
  {
   "cell_type": "code",
   "execution_count": 39,
   "id": "42ce583f-2842-42f3-9a19-2b35c8a9065a",
   "metadata": {},
   "outputs": [
    {
     "name": "stderr",
     "output_type": "stream",
     "text": [
      "2021-08-16 17:07:04.134 python3.9[37584:1164569] _TIPropertyValueIsValid called with 4 on nil context!\n",
      "2021-08-16 17:07:04.134 python3.9[37584:1164569] imkxpc_getApplicationProperty:reply: called with incorrect property value 4, bailing.\n",
      "2021-08-16 17:07:04.134 python3.9[37584:1164569] Text input context does not respond to _valueForTIProperty:\n",
      "2021-08-16 17:07:04.135 python3.9[37584:1164569] _TIPropertyValueIsValid called with 4 on nil context!\n",
      "2021-08-16 17:07:04.135 python3.9[37584:1164569] imkxpc_getApplicationProperty:reply: called with incorrect property value 4, bailing.\n",
      "2021-08-16 17:07:04.135 python3.9[37584:1164569] Text input context does not respond to _valueForTIProperty:\n"
     ]
    },
    {
     "data": {
      "text/plain": [
       "-1"
      ]
     },
     "execution_count": 39,
     "metadata": {},
     "output_type": "execute_result"
    }
   ],
   "source": [
    "cv2.imshow(\"img\", img)\n",
    "cv2.imshow(\"gray\", img_gray)\n",
    "cv2.waitKey(0)\n",
    "cv2.destroyAllWindows()\n",
    "cv2.waitKey(1)"
   ]
  },
  {
   "cell_type": "markdown",
   "id": "dc1f7dcd-71a0-41c6-b8b6-7224a8cf4b19",
   "metadata": {},
   "source": [
    "### 簡単なグレースケール化\n",
    "- imread の時点で引数に　０　を入れる事によって簡単にグレースケール化する事ができる"
   ]
  },
  {
   "cell_type": "code",
   "execution_count": 40,
   "id": "f0c02a44-4280-44d0-af96-872a91519ba5",
   "metadata": {},
   "outputs": [],
   "source": [
    "img_gray2 = cv2.imread(\"data/src/grapes.jpg\", 0)"
   ]
  },
  {
   "cell_type": "code",
   "execution_count": 41,
   "id": "106d493e-f91f-4895-b60e-88759016eada",
   "metadata": {},
   "outputs": [
    {
     "name": "stderr",
     "output_type": "stream",
     "text": [
      "2021-08-16 17:10:31.636 python3.9[37584:1164569] _TIPropertyValueIsValid called with 4 on nil context!\n",
      "2021-08-16 17:10:31.636 python3.9[37584:1164569] imkxpc_getApplicationProperty:reply: called with incorrect property value 4, bailing.\n",
      "2021-08-16 17:10:31.636 python3.9[37584:1164569] Text input context does not respond to _valueForTIProperty:\n",
      "2021-08-16 17:10:31.636 python3.9[37584:1164569] _TIPropertyValueIsValid called with 4 on nil context!\n",
      "2021-08-16 17:10:31.636 python3.9[37584:1164569] imkxpc_getApplicationProperty:reply: called with incorrect property value 4, bailing.\n",
      "2021-08-16 17:10:31.636 python3.9[37584:1164569] Text input context does not respond to _valueForTIProperty:\n"
     ]
    },
    {
     "data": {
      "text/plain": [
       "-1"
      ]
     },
     "execution_count": 41,
     "metadata": {},
     "output_type": "execute_result"
    }
   ],
   "source": [
    "cv2.imshow(\"gray2\", img_gray2)\n",
    "cv2.waitKey(0)\n",
    "cv2.destroyAllWindows()\n",
    "cv2.waitKey(1)"
   ]
  },
  {
   "cell_type": "code",
   "execution_count": 43,
   "id": "01284eda-ebef-4a2b-bb72-078fe2c0566e",
   "metadata": {},
   "outputs": [
    {
     "data": {
      "text/plain": [
       "array([[[ 46, 138, 175],\n",
       "        [ 46, 152, 159],\n",
       "        [ 45, 128, 177],\n",
       "        ...,\n",
       "        [105, 151, 233],\n",
       "        [104, 148, 228],\n",
       "        [104, 149, 222]],\n",
       "\n",
       "       [[ 46, 181, 134],\n",
       "        [ 45, 198, 121],\n",
       "        [ 45, 168, 141],\n",
       "        ...,\n",
       "        [104, 157, 213],\n",
       "        [104, 155, 214],\n",
       "        [104, 158, 211]],\n",
       "\n",
       "       [[ 45, 193, 127],\n",
       "        [ 45, 215, 114],\n",
       "        [ 44, 200, 125],\n",
       "        ...,\n",
       "        [103, 172, 173],\n",
       "        [103, 167, 194],\n",
       "        [103, 168, 202]],\n",
       "\n",
       "       ...,\n",
       "\n",
       "       [[ 39, 249,  45],\n",
       "        [ 38, 255,  46],\n",
       "        [ 38, 250,  52],\n",
       "        ...,\n",
       "        [ 33, 112, 196],\n",
       "        [ 32, 110, 190],\n",
       "        [ 31, 108, 187]],\n",
       "\n",
       "       [[ 39, 255,  49],\n",
       "        [ 38, 250,  52],\n",
       "        [ 39, 234,  60],\n",
       "        ...,\n",
       "        [ 35, 108, 206],\n",
       "        [ 34, 102, 205],\n",
       "        [ 33, 107, 188]],\n",
       "\n",
       "       [[ 38, 250,  52],\n",
       "        [ 38, 233,  58],\n",
       "        [ 39, 218,  68],\n",
       "        ...,\n",
       "        [ 36, 114, 193],\n",
       "        [ 35, 107, 196],\n",
       "        [ 34, 103, 196]]], dtype=uint8)"
      ]
     },
     "execution_count": 43,
     "metadata": {},
     "output_type": "execute_result"
    }
   ],
   "source": [
    "img_hsv"
   ]
  },
  {
   "cell_type": "markdown",
   "id": "8a717967-b52a-43fc-9a85-64c7de2adc80",
   "metadata": {},
   "source": [
    "#### 注意！！！　HSVの順番になっているのだが、Open CV は整数しか扱えず、２５６段階しか扱えないので、実際の半分の値で表されている"
   ]
  },
  {
   "cell_type": "markdown",
   "id": "c8a49302-3e2f-4369-a0c5-e274d9bd67a2",
   "metadata": {},
   "source": [
    "## ヒストグラム"
   ]
  },
  {
   "cell_type": "code",
   "execution_count": null,
   "id": "cc0599d0-46a5-4614-b682-8d3218b8a7a4",
   "metadata": {},
   "outputs": [],
   "source": []
  }
 ],
 "metadata": {
  "kernelspec": {
   "display_name": "Python 3 (ipykernel)",
   "language": "python",
   "name": "python3"
  },
  "language_info": {
   "codemirror_mode": {
    "name": "ipython",
    "version": 3
   },
   "file_extension": ".py",
   "mimetype": "text/x-python",
   "name": "python",
   "nbconvert_exporter": "python",
   "pygments_lexer": "ipython3",
   "version": "3.9.6"
  }
 },
 "nbformat": 4,
 "nbformat_minor": 5
}
