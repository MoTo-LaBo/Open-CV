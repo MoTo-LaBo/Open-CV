{
 "cells": [
  {
   "cell_type": "markdown",
   "id": "2f295d99-7fb4-4949-9dfc-ec4d19665c78",
   "metadata": {},
   "source": [
    "# 画像処理の基礎"
   ]
  },
  {
   "cell_type": "markdown",
   "id": "51929206-bf1b-4eda-89f4-69ba8d6c280c",
   "metadata": {},
   "source": [
    "## 画像の表示・出力"
   ]
  },
  {
   "cell_type": "code",
   "execution_count": 1,
   "id": "bfb900dc-f7d2-4189-b76f-a20b75bb12f6",
   "metadata": {},
   "outputs": [],
   "source": [
    "import cv2\n",
    "import os"
   ]
  },
  {
   "cell_type": "code",
   "execution_count": 2,
   "id": "72a4fead-d8bf-4740-a603-1d372c2d4928",
   "metadata": {},
   "outputs": [],
   "source": [
    "img = cv2.imread('data/src/Berry.jpg')"
   ]
  },
  {
   "cell_type": "code",
   "execution_count": 3,
   "id": "4756f8de-fb2d-4661-b66d-cd5e70ee5a95",
   "metadata": {},
   "outputs": [
    {
     "data": {
      "text/plain": [
       "(589, 960, 3)"
      ]
     },
     "execution_count": 3,
     "metadata": {},
     "output_type": "execute_result"
    }
   ],
   "source": [
    "img.shape"
   ]
  },
  {
   "cell_type": "code",
   "execution_count": 4,
   "id": "f922aae4-f85f-4bd6-be8d-8eae9efd04ef",
   "metadata": {},
   "outputs": [
    {
     "data": {
      "text/plain": [
       "array([128, 176, 194], dtype=uint8)"
      ]
     },
     "execution_count": 4,
     "metadata": {},
     "output_type": "execute_result"
    }
   ],
   "source": [
    "img[0][0]"
   ]
  },
  {
   "cell_type": "code",
   "execution_count": 11,
   "id": "898ee7bf-854d-459b-8c9c-b09746a3668d",
   "metadata": {},
   "outputs": [
    {
     "data": {
      "text/plain": [
       "-1"
      ]
     },
     "execution_count": 11,
     "metadata": {},
     "output_type": "execute_result"
    }
   ],
   "source": [
    "cv2.imshow(\"img\", img)   # 画像表示のメソッド　 → 画像の名前 : 表示する対象（渡すもの）\n",
    "cv2.waitKey(0)           # お約束 :　引数の中に入れた数に応じてキーが押されるまでの秒数を決めることができる。　０は押されるまで待つ\n",
    "cv2.destroyAllWindows()  # 画像表示する際に、img window ができる。それが役目を終えたら、window を壊す役割を持っている\n",
    "cv2.waitKey(1)"
   ]
  },
  {
   "cell_type": "markdown",
   "id": "169e9b21-7f45-4db0-99e9-61faf63da7db",
   "metadata": {},
   "source": [
    "destroyWindow()やdestroyAllWindows()のあとに実行するwaitKey()の引数を0や無しとすると、  \n",
    "ウィンドウは閉じられるがウィンドウがキー入力を無期限に待ち続ける」という状態となり、  \n",
    "プロンプトも待受け状態のまま何のキー入力も受け付けなくなる（場合がある）ためシェルなどのプロセスごと終了せざるを得なくなるので注意"
   ]
  },
  {
   "cell_type": "code",
   "execution_count": null,
   "id": "45cde58f-3555-499d-ae58-83f5e61cf7f8",
   "metadata": {},
   "outputs": [],
   "source": [
    "os.mkidr(\"./output\")"
   ]
  },
  {
   "cell_type": "code",
   "execution_count": 10,
   "id": "fb8de6c4-9adf-4cfd-84c7-acdb2713c54b",
   "metadata": {},
   "outputs": [
    {
     "data": {
      "text/plain": [
       "True"
      ]
     },
     "execution_count": 10,
     "metadata": {},
     "output_type": "execute_result"
    }
   ],
   "source": [
    "cv2.imwrite(\"output/test.jpg\", img)"
   ]
  },
  {
   "cell_type": "markdown",
   "id": "4ddf783f-3bea-41e2-9ec5-a104711fca8e",
   "metadata": {},
   "source": [
    "## 動画の表示・出力"
   ]
  },
  {
   "cell_type": "code",
   "execution_count": 12,
   "id": "4b6242d2-9a1b-40f5-bd8f-3e7c3b4fc521",
   "metadata": {},
   "outputs": [],
   "source": [
    "import cv2\n",
    "import sys"
   ]
  },
  {
   "cell_type": "code",
   "execution_count": 21,
   "id": "85905b01-928f-48da-982b-5c9a44864ac9",
   "metadata": {},
   "outputs": [],
   "source": [
    "cap = cv2.VideoCapture(\"data/movie/Cosmos.mp4\")  # 動画を読み込む\n",
    "if cap.isOpened() == False:                 # if文を使用して正しく読み込めたか判定する\n",
    "    sys.exit()                              # False の場合はプログラムから抜け出す\n",
    "ret, frame = cap.read()                     # 正しく読み込めている場合は 1frame read (１フレームだけ動画を読み込む)2つ値が返ってくる。　\n",
    "                                            # ret -> returnの略[真偽値が入る（true or false）正しく読み込めたかどうか], frame: 実際の１フレームの画像が格納されている\n",
    "h, w = frame.shape[:2]                      # y,x,color \n",
    "fourcc = cv2.VideoWriter_fourcc(*\"XVID\")      # wirte setting\n",
    "dst = cv2.VideoWriter(\"output/test.avi\", fourcc, 30.0, (w, h))  # 動画の書き込み（出力先：コーデック設定：FPSの設定１秒間に何フレーム進めるか：動画の解像度）\n",
    "\n",
    "# 上記は動画を再生させる前段階の設定。読み込みと表示のさせ方\n",
    "\n",
    "# メインのプログラム\n",
    "while True:\n",
    "    ret, frame = cap.read()\n",
    "    if ret == False:\n",
    "        break\n",
    "    cv2.imshow(\"img\", frame)\n",
    "    dst.write(frame)\n",
    "    if cv2.waitKey(30) == 27:  # 27 -> esc key\n",
    "        break\n",
    "cv2.destroyAllWindows()\n",
    "cv2.waitKey(1)\n",
    "cap.release()"
   ]
  },
  {
   "cell_type": "code",
   "execution_count": null,
   "id": "06cdce0c-59c5-46c6-89b5-39df54a6f582",
   "metadata": {},
   "outputs": [],
   "source": []
  }
 ],
 "metadata": {
  "kernelspec": {
   "display_name": "Python 3 (ipykernel)",
   "language": "python",
   "name": "python3"
  },
  "language_info": {
   "codemirror_mode": {
    "name": "ipython",
    "version": 3
   },
   "file_extension": ".py",
   "mimetype": "text/x-python",
   "name": "python",
   "nbconvert_exporter": "python",
   "pygments_lexer": "ipython3",
   "version": "3.9.6"
  }
 },
 "nbformat": 4,
 "nbformat_minor": 5
}
