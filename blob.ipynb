{
 "cells": [
  {
   "cell_type": "markdown",
   "id": "7c82085d-32dd-41dc-98c3-1fd7467359ae",
   "metadata": {},
   "source": [
    "# ブロブの検出\n",
    "- ブロブとは塊\n",
    "- 一つのpixelの塊"
   ]
  },
  {
   "cell_type": "code",
   "execution_count": 1,
   "id": "9360f546-c380-42a1-a9a6-0fad3bc689b8",
   "metadata": {},
   "outputs": [],
   "source": [
    "import cv2\n",
    "import copy\n",
    "import matplotlib.pyplot as plt"
   ]
  },
  {
   "cell_type": "code",
   "execution_count": 2,
   "id": "d56a7995-19ed-40f8-a4cb-61bdf843413c",
   "metadata": {},
   "outputs": [
    {
     "data": {
      "text/plain": [
       "-1"
      ]
     },
     "execution_count": 2,
     "metadata": {},
     "output_type": "execute_result"
    }
   ],
   "source": [
    "img = cv2.imread(\"data/src/Blob.png\")\n",
    "img_g = cv2.imread(\"data/src/Blob.png\", 0)\n",
    "cv2.imshow(\"img\", img)\n",
    "cv2.waitKey(0)\n",
    "cv2.destroyAllWindows()\n",
    "cv2.waitKey(1)"
   ]
  },
  {
   "cell_type": "markdown",
   "id": "c1ef7ad8-ecd8-4a5c-bbd2-f40a5b2514eb",
   "metadata": {},
   "source": [
    "#### Blob img"
   ]
  },
  {
   "cell_type": "code",
   "execution_count": 3,
   "id": "8065e7a8-dbff-4f61-b134-336dfd02245b",
   "metadata": {},
   "outputs": [
    {
     "data": {
      "text/plain": [
       "([], [])"
      ]
     },
     "execution_count": 3,
     "metadata": {},
     "output_type": "execute_result"
    },
    {
     "data": {
      "image/png": "[encoded data removed]",
      "text/plain": [
       "<Figure size 432x288 with 1 Axes>"
      ]
     },
     "metadata": {},
     "output_type": "display_data"
    }
   ],
   "source": [
    "fn = r'static/Blob/Blob.png'\n",
    "img = cv2.imread(fn)\n",
    "# plt.figure(figsize=(12, 8))\n",
    "plt.imshow(img)\n",
    "plt.xticks(ticks=[])\n",
    "plt.yticks(ticks=[])"
   ]
  },
  {
   "cell_type": "markdown",
   "id": "44318342-56ba-4f6f-a03c-c5891d2da683",
   "metadata": {},
   "source": [
    "#### 上記の image に対して別な色に塗り替えて、pixelを数えて面積を表示していく"
   ]
  },
  {
   "cell_type": "markdown",
   "id": "7ce05919-b3df-4e3e-914d-8058dc3bb899",
   "metadata": {},
   "source": [
    "### blob する場合は、２値化する必要がある"
   ]
  },
  {
   "cell_type": "code",
   "execution_count": 4,
   "id": "28563497-f237-4a02-a437-37022a31e54e",
   "metadata": {},
   "outputs": [
    {
     "data": {
      "text/plain": [
       "-1"
      ]
     },
     "execution_count": 4,
     "metadata": {},
     "output_type": "execute_result"
    }
   ],
   "source": [
    "# 2値化\n",
    "ret, img_bi = cv2.threshold(img_g, 100, 255, cv2.THRESH_BINARY)\n",
    "cv2.imshow(\"img\", img_bi)\n",
    "cv2.waitKey(0)\n",
    "cv2.destroyAllWindows()\n",
    "cv2.waitKey(1)"
   ]
  },
  {
   "cell_type": "markdown",
   "id": "a8b869f6-7a48-4d69-9102-86f174635cc2",
   "metadata": {},
   "source": [
    "### 2値化"
   ]
  },
  {
   "cell_type": "code",
   "execution_count": 5,
   "id": "f782a0fd-b62d-4e16-87f3-6f32d2180fb3",
   "metadata": {},
   "outputs": [
    {
     "data": {
      "text/plain": [
       "([], [])"
      ]
     },
     "execution_count": 5,
     "metadata": {},
     "output_type": "execute_result"
    },
    {
     "data": {
      "image/png": "[encoded data removed]",
      "text/plain": [
       "<Figure size 432x288 with 1 Axes>"
      ]
     },
     "metadata": {},
     "output_type": "display_data"
    }
   ],
   "source": [
    "fn1 = r'static/Blob/Blob2.png'\n",
    "img1 = cv2.imread(fn1)\n",
    "# plt.figure(figsize=(12, 8))\n",
    "plt.imshow(img1)\n",
    "plt.xticks(ticks=[])\n",
    "plt.yticks(ticks=[])"
   ]
  },
  {
   "cell_type": "code",
   "execution_count": 6,
   "id": "7c832e1a-2290-428c-9b29-2ad15d27d5d4",
   "metadata": {},
   "outputs": [],
   "source": [
    "nLabels, labelImage, stats, centroids = cv2.connectedComponentsWithStats(img_bi)"
   ]
  },
  {
   "cell_type": "markdown",
   "id": "25781e51-612e-443e-a806-582b98cb5d8b",
   "metadata": {},
   "source": [
    "### nLabels : 検出した blob の個数"
   ]
  },
  {
   "cell_type": "code",
   "execution_count": 7,
   "id": "3d408f8d-9e87-420e-8a4b-fd90515a030d",
   "metadata": {},
   "outputs": [
    {
     "data": {
      "text/plain": [
       "5"
      ]
     },
     "execution_count": 7,
     "metadata": {},
     "output_type": "execute_result"
    }
   ],
   "source": [
    "nLabels"
   ]
  },
  {
   "cell_type": "markdown",
   "id": "88fc2d19-4cd1-47ab-a0f2-4535d15ac75a",
   "metadata": {
    "tags": []
   },
   "source": [
    "※ 背景も　blob としてカウントされるので　5個になる"
   ]
  },
  {
   "cell_type": "markdown",
   "id": "308e8514-d0b7-40f9-b5de-2d9f5b0f76b0",
   "metadata": {},
   "source": [
    "### labelImage : label の id がふられている"
   ]
  },
  {
   "cell_type": "code",
   "execution_count": 8,
   "id": "5e05cf5b-3658-48df-a931-b111be9cde17",
   "metadata": {},
   "outputs": [
    {
     "data": {
      "text/plain": [
       "array([[0, 0, 0, ..., 0, 0, 0],\n",
       "       [0, 0, 0, ..., 0, 0, 0],\n",
       "       [0, 0, 0, ..., 0, 0, 0],\n",
       "       ...,\n",
       "       [0, 0, 0, ..., 0, 0, 0],\n",
       "       [0, 0, 0, ..., 0, 0, 0],\n",
       "       [0, 0, 0, ..., 0, 0, 0]], dtype=int32)"
      ]
     },
     "execution_count": 8,
     "metadata": {},
     "output_type": "execute_result"
    }
   ],
   "source": [
    "labelImage"
   ]
  },
  {
   "cell_type": "markdown",
   "id": "2accf100-55ed-4cc9-8741-6b358111e6ad",
   "metadata": {},
   "source": [
    "### stats : 最小の x, 最小の y　という順番で格納されている\n",
    "    - | x | y | width | height | blob面積(ピクセル数) |"
   ]
  },
  {
   "cell_type": "code",
   "execution_count": 9,
   "id": "b36b48fa-fdf4-4415-a4f9-e5de5a4aa250",
   "metadata": {},
   "outputs": [
    {
     "data": {
      "text/plain": [
       "array([[      0,       0,    1672,    1078, 1578760],\n",
       "       [    818,      88,     365,     311,   56799],\n",
       "       [    256,     143,     150,     150,   17656],\n",
       "       [    163,     471,     336,     363,   89208],\n",
       "       [   1048,     574,     302,     288,   59993]], dtype=int32)"
      ]
     },
     "execution_count": 9,
     "metadata": {},
     "output_type": "execute_result"
    }
   ],
   "source": [
    "stats"
   ]
  },
  {
   "cell_type": "code",
   "execution_count": 10,
   "id": "09ad4a37-d60a-4ec2-a809-964d5af40f9b",
   "metadata": {},
   "outputs": [],
   "source": [
    "# img_blob に検出した情報を書き込んでいく\n",
    "img_blob = copy.deepcopy(img)\n",
    "h, w = img_g.shape\n",
    "color = [255, 0, 0], [0, 255, 0], [0, 0, 255 ], [255, 255, 0]  # 色を代入するので予め色を作成しておく\n",
    "\n",
    "for y in range(h):                                     # 残りは　for文を回す : label imag が正より多きものに色を塗っていく -> 0 < 大きい　＝　背景以外\n",
    "    for x in range(w):\n",
    "        if labelImage[y, x] > 0:                       # ある画像の y, x が ０ より大き場合 = 背景ではなく　 blob　になっている\n",
    "            img_blob[y, x] = color[labelImage[y,x]-1]  # img_blob の y,x に先ほど作成した color を代入: labelImage は１より大きので 1から始まってしまうので -1\n",
    "# ここで色塗りは完成\n",
    "\n",
    "# 重心の部分に put tetx を使用して記述していく\n",
    "for i in range(1, nLabels):                            # centroids　を使用する（円の重心を返してくれる）: 0から始めると背景に text が回ってしまうので\n",
    "    xc = int(centroids[i][0])                          # 0,1 -> x, y という順番で入っているので\n",
    "    yc = int(centroids[i][1])\n",
    "    font = cv2.FONT_HERSHEY_COMPLEX\n",
    "    scale = 1\n",
    "    color = (255, 255, 255)\n",
    "    # img_blob の　 stats の一番最後 = 面積を文字列化して渡す -> それぞれの重心へ -> font : scale : color :\n",
    "    cv2.putText(img_blob, str(stats[i][-1]), (xc, yc), font, scale, color)"
   ]
  },
  {
   "cell_type": "code",
   "execution_count": 11,
   "id": "9147f933-d603-497e-ab96-42921c271d80",
   "metadata": {},
   "outputs": [
    {
     "data": {
      "text/plain": [
       "-1"
      ]
     },
     "execution_count": 11,
     "metadata": {},
     "output_type": "execute_result"
    }
   ],
   "source": [
    "cv2.imshow(\"img\", img_blob)\n",
    "cv2.waitKey(0)\n",
    "cv2.destroyAllWindows()\n",
    "cv2.waitKey(1)"
   ]
  },
  {
   "cell_type": "code",
   "execution_count": 14,
   "id": "640deb1b-869e-495a-95fa-b713ec3da199",
   "metadata": {},
   "outputs": [
    {
     "data": {
      "text/plain": [
       "([], [])"
      ]
     },
     "execution_count": 14,
     "metadata": {},
     "output_type": "execute_result"
    },
    {
     "data": {
      "image/png": "[encoded data removed]",
      "text/plain": [
       "<Figure size 864x576 with 1 Axes>"
      ]
     },
     "metadata": {},
     "output_type": "display_data"
    }
   ],
   "source": [
    "plt.figure(figsize=(12, 8))\n",
    "plt.imshow(img_blob)\n",
    "plt.xticks(ticks=[])\n",
    "plt.yticks(ticks=[])"
   ]
  },
  {
   "cell_type": "markdown",
   "id": "1a4fa735-43a7-4498-93ec-b5b55a3e7725",
   "metadata": {},
   "source": [
    "#### img blob : 色変え, 面積（数値表示）"
   ]
  },
  {
   "cell_type": "markdown",
   "id": "8a29b032-9022-4dab-8b4f-282473107c7f",
   "metadata": {},
   "source": [
    "- labelImage が正の部分がしっかりと新たに塗りつぶされている\n",
    "    - blob がしっかり検出されている証拠\n",
    "- pixelを数えて面積として出力\n",
    "    - centroids(重心)にしっかりと text として配置されている"
   ]
  },
  {
   "cell_type": "code",
   "execution_count": null,
   "id": "55eabd23-852d-4e3f-a7ae-387b30f6118f",
   "metadata": {},
   "outputs": [],
   "source": []
  }
 ],
 "metadata": {
  "kernelspec": {
   "display_name": "Python 3 (ipykernel)",
   "language": "python",
   "name": "python3"
  },
  "language_info": {
   "codemirror_mode": {
    "name": "ipython",
    "version": 3
   },
   "file_extension": ".py",
   "mimetype": "text/x-python",
   "name": "python",
   "nbconvert_exporter": "python",
   "pygments_lexer": "ipython3",
   "version": "3.9.6"
  }
 },
 "nbformat": 4,
 "nbformat_minor": 5
}
