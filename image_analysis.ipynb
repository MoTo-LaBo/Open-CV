{
 "cells": [
  {
   "cell_type": "markdown",
   "id": "fe24e2f4-feca-4fd1-bbb7-611dee18d004",
   "metadata": {
    "tags": []
   },
   "source": [
    "## アファイン変換\n",
    "- アファイン変換とは回転・平行移動などの線形変換\n",
    "\n",
    "アファイン変換の公式\n",
    "- 回転やせん断変形など　,平行移動\n",
    "$$\n",
    "\\begin{pmatrix} x' \\\\ y' \\end{pmatrix}=\\begin{pmatrix} a & b \\\\ c & d \\end{pmatrix}\\begin{pmatrix} x \\\\ y \\end{pmatrix}+\\begin{pmatrix} t_x \\\\ t_y \\end{pmatrix}\n",
    "$$\n",
    "\n",
    "- github では下記　↓　参照（gitで正しく表示されない為）\n",
    "\n",
    "$\\begin{pmatrix} x' \\\\ y' \\end{pmatrix}$=$\\begin{pmatrix} a & b \\\\ c & d \\end{pmatrix}$*$\\begin{pmatrix} x \\\\ y \\end{pmatrix}$+$\\begin{pmatrix} t_x \\\\ t_y \\end{pmatrix}$\n",
    "\n",
    "- 線形変換を纏めた行列\n",
    "$$\n",
    "\\begin{pmatrix} x' \\\\ y' \\\\1 \\end{pmatrix}=\\begin{pmatrix} a & b & t_x \\\\ c & d & t_y \\\\0 & 0 & 1 \\end{pmatrix}\\begin{pmatrix} x \\\\ y \\\\1 \\end{pmatrix}\n",
    "$$\n",
    "\n",
    "- github では下記　↓　参照（gitで正しく表示されない為）\n",
    "\n",
    "$\\begin{pmatrix} x' \\\\ y' \\\\1 \\end{pmatrix}$=$\\begin{pmatrix} a & b & t_x \\\\ c & d & t_y \\\\0 & 0 & 1 \\end{pmatrix}$*$\\begin{pmatrix} x \\\\ y \\\\1 \\end{pmatrix}$\n",
    "\n",
    "- 同次座標 -> 1 = (0 0 1)(1) \n",
    "\n",
    "- x, y, 以外の軸(同次座標)を導入する\n",
    "    - 同次座標を導入することによって、変換行列だけでアファイン変換を記述する事ができる\n",
    "    \n",
    "#### Open CV では変換行列を定義してアファイン変換をしていく事になる\n"
   ]
  },
  {
   "cell_type": "code",
   "execution_count": 39,
   "id": "65fe6507-96c5-4eb7-bde8-da59f1d98b79",
   "metadata": {},
   "outputs": [],
   "source": [
    "import cv2\n",
    "import numpy as np"
   ]
  },
  {
   "cell_type": "code",
   "execution_count": 40,
   "id": "d26eadfd-8db9-4373-9479-da0a4e9acfbb",
   "metadata": {},
   "outputs": [],
   "source": [
    "# 画像の読み込み -> 画像のsize取得 -> 移動距離の定義\n",
    "img = cv2.imread(\"data/src/grapes.jpg\")\n",
    "h, w = img.shape[:2]\n",
    "dx, dy = 30, 30"
   ]
  },
  {
   "cell_type": "code",
   "execution_count": 41,
   "id": "f87da209-4cc0-4e00-8f7e-37851559eaf3",
   "metadata": {},
   "outputs": [],
   "source": [
    "# 変換行列の定義 30pxづつ右斜め下にずらす\n",
    "afn_mat = np.float32([[1,0,dx],[0,1,dy]])\n",
    "img_afn = cv2.warpAffine(img, afn_mat, (w, h))"
   ]
  },
  {
   "cell_type": "code",
   "execution_count": 42,
   "id": "066a691c-f443-4cbe-a8e7-e66606bf44aa",
   "metadata": {},
   "outputs": [
    {
     "name": "stderr",
     "output_type": "stream",
     "text": [
      "2021-08-18 00:30:55.899 python3[10992:234026] _TIPropertyValueIsValid called with 4 on nil context!\n",
      "2021-08-18 00:30:55.899 python3[10992:234026] imkxpc_getApplicationProperty:reply: called with incorrect property value 4, bailing.\n",
      "2021-08-18 00:30:55.900 python3[10992:234026] Text input context does not respond to _valueForTIProperty:\n",
      "2021-08-18 00:30:55.911 python3[10992:234026] _TIPropertyValueIsValid called with 4 on nil context!\n",
      "2021-08-18 00:30:55.911 python3[10992:234026] imkxpc_getApplicationProperty:reply: called with incorrect property value 4, bailing.\n",
      "2021-08-18 00:30:55.911 python3[10992:234026] Text input context does not respond to _valueForTIProperty:\n"
     ]
    },
    {
     "data": {
      "text/plain": [
       "-1"
      ]
     },
     "execution_count": 42,
     "metadata": {},
     "output_type": "execute_result"
    }
   ],
   "source": [
    "cv2.imshow(\"trans\", img_afn)\n",
    "cv2.waitKey(0)\n",
    "cv2.destroyAllWindows()\n",
    "cv2.waitKey(1)"
   ]
  },
  {
   "cell_type": "code",
   "execution_count": 43,
   "id": "a60a88dc-2bf5-4546-8aeb-3cf52b8e9966",
   "metadata": {},
   "outputs": [],
   "source": [
    "# 回転変換: getRotationMatrix2D 関数を使用することで簡単に回転を扱うことができる\n",
    "rot_mat = cv2.getRotationMatrix2D((w/2, h/2), 40, 1)  # 回転させる場所(座標) : 回転させる角度 : 画像の拡大縮小(scale)\n",
    "img_afn2 = cv2.warpAffine(img, rot_mat, (w, h))       # warpAffineを使用して変換行列を適用する : img(変換元) : 変換する matrix : 画像のsize（解像度） "
   ]
  },
  {
   "cell_type": "code",
   "execution_count": 44,
   "id": "e9b33c47-b020-49c9-aba2-80d7bea83984",
   "metadata": {},
   "outputs": [
    {
     "name": "stderr",
     "output_type": "stream",
     "text": [
      "2021-08-18 00:31:18.141 python3[10992:234026] IMKClient Stall detected, *please Report* your user scenario attaching a spindump (or sysdiagnose) that captures the problem - (imkxpc_dismissFunctionRowItemTextInputViewWithReply:) block performed very slowly (9.27 secs).\n",
      "2021-08-18 00:31:18.142 python3[10992:234026] _TIPropertyValueIsValid called with 4 on nil context!\n",
      "2021-08-18 00:31:18.142 python3[10992:234026] imkxpc_getApplicationProperty:reply: called with incorrect property value 4, bailing.\n",
      "2021-08-18 00:31:18.142 python3[10992:234026] Text input context does not respond to _valueForTIProperty:\n",
      "2021-08-18 00:31:18.142 python3[10992:234026] _TIPropertyValueIsValid called with 4 on nil context!\n",
      "2021-08-18 00:31:18.142 python3[10992:234026] imkxpc_getApplicationProperty:reply: called with incorrect property value 4, bailing.\n",
      "2021-08-18 00:31:18.142 python3[10992:234026] Text input context does not respond to _valueForTIProperty:\n",
      "2021-08-18 00:31:18.142 python3[10992:234026] IMKClient Stall detected, *please Report* your user scenario attaching a spindump (or sysdiagnose) that captures the problem - (imkxpc_dismissFunctionRowItemTextInputViewWithReply:) block performed very slowly (4.28 secs).\n",
      "2021-08-18 00:31:18.142 python3[10992:234026] IMKClient Stall detected, *please Report* your user scenario attaching a spindump (or sysdiagnose) that captures the problem - (imkxpc_presentFunctionRowItemTextInputViewWithEndpoint:reply:) block performed very slowly (2.27 secs).\n"
     ]
    },
    {
     "data": {
      "text/plain": [
       "-1"
      ]
     },
     "execution_count": 44,
     "metadata": {},
     "output_type": "execute_result"
    }
   ],
   "source": [
    "cv2.imshow(\"rotation\", img_afn2)\n",
    "cv2.waitKey(0)\n",
    "cv2.destroyAllWindows()\n",
    "cv2.waitKey(1)"
   ]
  },
  {
   "cell_type": "markdown",
   "id": "f3f923bb-58ce-4f4e-867b-d27a954eb958",
   "metadata": {},
   "source": [
    "## 透視変換\n",
    "- 透視変換を行うことで、奥行きある画像を描画(変換)する事ができる"
   ]
  },
  {
   "cell_type": "code",
   "execution_count": 45,
   "id": "f01dc4c8-c663-45ef-be88-5e00d9b88c65",
   "metadata": {},
   "outputs": [],
   "source": [
    "import cv2\n",
    "import numpy as np"
   ]
  },
  {
   "cell_type": "code",
   "execution_count": 46,
   "id": "8230fbac-40c1-4bbf-969a-846635d25abe",
   "metadata": {},
   "outputs": [
    {
     "data": {
      "text/plain": [
       "-1"
      ]
     },
     "execution_count": 46,
     "metadata": {},
     "output_type": "execute_result"
    }
   ],
   "source": [
    "img = cv2.imread(\"data/src/drive.jpg\")\n",
    "h, w = img.shape[:2]\n",
    "cv2.imshow(\"img\", img)\n",
    "cv2.waitKey(0)\n",
    "cv2.destroyAllWindows()\n",
    "cv2.waitKey(1)"
   ]
  },
  {
   "cell_type": "markdown",
   "id": "60ce5c34-f46e-495a-92ce-37af64fbc578",
   "metadata": {},
   "source": [
    "透視変換する場合には、左上の点、右上の点に対応させるように分布させる(交互に対応させる)\n",
    "\n",
    "そうする事によって奥行き方向に分布したような画像になる"
   ]
  },
  {
   "cell_type": "code",
   "execution_count": 47,
   "id": "4a90c334-fd69-4cbb-ae3a-934308f05723",
   "metadata": {},
   "outputs": [],
   "source": [
    "# 点の対応関係を作成する -> 下記の引数で指定する元の点は、対応関係をうまく調整しないと画像がおかしくなるので、あらかじめ試行錯誤した点の対応関係を使っている\n",
    "per1 = np.float32([[100, 500], [300, 500], [300, 100], [100, 100]])\n",
    "per2 = np.float32([[100, 500], [300, 500], [280, 200], [150, 200]])  # こちらの per2 は台形に点を対応させる。対応後の点の場所\n",
    "\n",
    "psp_mat = cv2.getPerspectiveTransform(per1, per2) # 変換の行列を作成させる\n",
    "img_psp = cv2.warpPerspective(img, psp_mat, (w, h))       # 作成した matrix を渡す -> 透視変換を行う事ができる"
   ]
  },
  {
   "cell_type": "code",
   "execution_count": 48,
   "id": "6913bc88-dd88-4ea3-ba45-54ffbd2049f1",
   "metadata": {},
   "outputs": [
    {
     "data": {
      "text/plain": [
       "-1"
      ]
     },
     "execution_count": 48,
     "metadata": {},
     "output_type": "execute_result"
    }
   ],
   "source": [
    "cv2.imshow(\"psp\", img_psp)\n",
    "cv2.waitKey(0)\n",
    "cv2.destroyAllWindows()\n",
    "cv2.waitKey(1)"
   ]
  },
  {
   "cell_type": "markdown",
   "id": "40af140c-b1ca-4a6d-b1d7-0bf652d825b3",
   "metadata": {},
   "source": [
    "## 畳み込みの基礎"
   ]
  },
  {
   "cell_type": "code",
   "execution_count": 49,
   "id": "37ac9294-75f0-41d4-a303-06a354fdea38",
   "metadata": {},
   "outputs": [
    {
     "data": {
      "text/plain": [
       "array([[0.11111111, 0.11111111, 0.11111111],\n",
       "       [0.11111111, 0.11111111, 0.11111111],\n",
       "       [0.11111111, 0.11111111, 0.11111111]])"
      ]
     },
     "execution_count": 49,
     "metadata": {},
     "output_type": "execute_result"
    }
   ],
   "source": [
    "import cv2\n",
    "import numpy as pn\n",
    "\n",
    "kernel = np.ones((3,3)) / 9.0  # 3 * 3 の 1/9 のフィルターを用意する\n",
    "kernel"
   ]
  },
  {
   "cell_type": "code",
   "execution_count": 50,
   "id": "a799e5c5-6461-46b3-b547-e53c223b64c7",
   "metadata": {},
   "outputs": [
    {
     "name": "stderr",
     "output_type": "stream",
     "text": [
      "2021-08-18 00:31:52.320 python3[10992:234026] IMKClient Stall detected, *please Report* your user scenario attaching a spindump (or sysdiagnose) that captures the problem - (imkxpc_selectedRangeWithReply:) block performed very slowly (7.09 secs).\n",
      "2021-08-18 00:31:52.320 python3[10992:234026] IMKClient Stall detected, *please Report* your user scenario attaching a spindump (or sysdiagnose) that captures the problem - (imkxpc_stringFromRange:reply:) block performed very slowly (5.09 secs).\n",
      "2021-08-18 00:31:52.320 python3[10992:234026] IMKClient Stall detected, *please Report* your user scenario attaching a spindump (or sysdiagnose) that captures the problem - (imkxpc_lengthWithReply:) block performed very slowly (3.09 secs).\n",
      "2021-08-18 00:31:52.320 python3[10992:234026] IMKClient Stall detected, *please Report* your user scenario attaching a spindump (or sysdiagnose) that captures the problem - (imkxpc_stringFromRange:reply:) block performed very slowly (1.08 secs).\n"
     ]
    },
    {
     "data": {
      "text/plain": [
       "-1"
      ]
     },
     "execution_count": 50,
     "metadata": {},
     "output_type": "execute_result"
    }
   ],
   "source": [
    "img = cv2.imread(\"data/src/Lena.jpg\", 0)\n",
    "\n",
    "# 畳み込んでいく\n",
    "img_ke1 = cv2.filter2D(img, -1, kernel)  # ３つの引数を与える : 入力画像 : bit深度（負の値を与えておくと元の画像と同じものを返してくれる） : kernel\n",
    "\n",
    "cv2.imshow(\"img\", img_ke1)\n",
    "cv2.imshow(\"src\", img)\n",
    "cv2.waitKey(0)\n",
    "cv2.destroyAllWindows()\n",
    "cv2.waitKey(1)"
   ]
  },
  {
   "cell_type": "markdown",
   "id": "be43d3ab-b0b7-487a-8b22-fef5e9c4fd34",
   "metadata": {},
   "source": [
    "上記のようにフィルターを作成して、平滑化や微分ができる…\n",
    "\n",
    "しかし、毎回フィルターを作成するのは手間なので<u>実際にはそれぞれに合ったフィルターを使用する事が多い</u>"
   ]
  },
  {
   "cell_type": "markdown",
   "id": "b8731df6-9194-4cb5-a43f-92e106c07cda",
   "metadata": {},
   "source": [
    "### sobel フィルター"
   ]
  },
  {
   "cell_type": "code",
   "execution_count": 51,
   "id": "55452ec2-97e2-4435-99f5-b9610c46aa2f",
   "metadata": {},
   "outputs": [
    {
     "data": {
      "text/plain": [
       "array([[ 1.,  0., -1.],\n",
       "       [ 2.,  0., -2.],\n",
       "       [ 1.,  0., -1.]])"
      ]
     },
     "execution_count": 51,
     "metadata": {},
     "output_type": "execute_result"
    }
   ],
   "source": [
    "kernel2 = np.zeros((3, 3))\n",
    "kernel2[0, 0] = 1\n",
    "kernel2[1, 0] = 2\n",
    "kernel2[2, 0] = 1\n",
    "kernel2[0, -1] = -1\n",
    "kernel2[1, 2] = -2\n",
    "kernel2[2, 2] = -1\n",
    "\n",
    "kernel2"
   ]
  },
  {
   "cell_type": "code",
   "execution_count": 52,
   "id": "e4eb4fb7-47b3-48cb-8f3d-eac14eb08e19",
   "metadata": {},
   "outputs": [
    {
     "data": {
      "text/plain": [
       "-1"
      ]
     },
     "execution_count": 52,
     "metadata": {},
     "output_type": "execute_result"
    }
   ],
   "source": [
    "img_ke2 = cv2.filter2D(img, -1, kernel2)\n",
    "\n",
    "cv2.imshow(\"img\", img_ke2)\n",
    "cv2.waitKey(0)\n",
    "cv2.destroyAllWindows()\n",
    "cv2.waitKey(1)"
   ]
  },
  {
   "cell_type": "markdown",
   "id": "9d6290bd-b7f8-4f52-a1b7-a214a49d73e3",
   "metadata": {},
   "source": [
    "## 画像の平滑化\n",
    "- 平滑化フィルターはいくつかの種類がある\n"
   ]
  },
  {
   "cell_type": "code",
   "execution_count": 53,
   "id": "6e21b267-1054-4ab5-98d0-fbc7683f7504",
   "metadata": {},
   "outputs": [
    {
     "name": "stderr",
     "output_type": "stream",
     "text": [
      "2021-08-18 00:32:17.388 python3[10992:234026] _TIPropertyValueIsValid called with 4 on nil context!\n",
      "2021-08-18 00:32:17.388 python3[10992:234026] imkxpc_getApplicationProperty:reply: called with incorrect property value 4, bailing.\n",
      "2021-08-18 00:32:17.388 python3[10992:234026] Text input context does not respond to _valueForTIProperty:\n",
      "2021-08-18 00:32:17.388 python3[10992:234026] _TIPropertyValueIsValid called with 4 on nil context!\n",
      "2021-08-18 00:32:17.388 python3[10992:234026] imkxpc_getApplicationProperty:reply: called with incorrect property value 4, bailing.\n",
      "2021-08-18 00:32:17.388 python3[10992:234026] Text input context does not respond to _valueForTIProperty:\n"
     ]
    },
    {
     "data": {
      "text/plain": [
       "-1"
      ]
     },
     "execution_count": 53,
     "metadata": {},
     "output_type": "execute_result"
    }
   ],
   "source": [
    "import cv2\n",
    "\n",
    "img = cv2.imread(\"data/src/buildings.jpg\")\n",
    "\n",
    "# 平滑化： もっとも単純な平滑化処理　：　画像のぼかし\n",
    "img_blur = cv2.blur(img, (3, 3))  # ブラー処理：　1/9 3*3 と全く同じフィルター。引数を渡すだけで、フィルターを作らずに処理できる\n",
    "\n",
    "cv2.imshow(\"img\", img_blur)\n",
    "cv2.imshow(\"src\", img)\n",
    "cv2.waitKey(0)\n",
    "cv2.destroyAllWindows()\n",
    "cv2.waitKey(1)"
   ]
  },
  {
   "cell_type": "code",
   "execution_count": 54,
   "id": "15e8f266-3075-4b76-8a13-3afdf6826e41",
   "metadata": {},
   "outputs": [],
   "source": [
    "# GaussianBlur : こちらも非常に有名な画像の blur（ぼかし）の処理 -> 強いぼかし、ぼかしの調整\n",
    "img_ga = cv2.GaussianBlur(img, (9,9), 2)  # filter の枠の大きさ（奇数を与えてあげないとエラーが出てしまう　）：　　２の値が大きければ大きほど画像がぼやける\n"
   ]
  },
  {
   "cell_type": "code",
   "execution_count": 55,
   "id": "70376110-95d6-45ae-ab08-1662e15eb9d5",
   "metadata": {},
   "outputs": [
    {
     "name": "stderr",
     "output_type": "stream",
     "text": [
      "2021-08-18 00:32:30.737 python3[10992:234026] IMKClient Stall detected, *please Report* your user scenario attaching a spindump (or sysdiagnose) that captures the problem - (imkxpc_dismissFunctionRowItemTextInputViewWithReply:) block performed very slowly (7.30 secs).\n",
      "2021-08-18 00:32:30.737 python3[10992:234026] _TIPropertyValueIsValid called with 4 on nil context!\n",
      "2021-08-18 00:32:30.737 python3[10992:234026] imkxpc_getApplicationProperty:reply: called with incorrect property value 4, bailing.\n",
      "2021-08-18 00:32:30.737 python3[10992:234026] Text input context does not respond to _valueForTIProperty:\n",
      "2021-08-18 00:32:30.737 python3[10992:234026] _TIPropertyValueIsValid called with 4 on nil context!\n",
      "2021-08-18 00:32:30.737 python3[10992:234026] imkxpc_getApplicationProperty:reply: called with incorrect property value 4, bailing.\n",
      "2021-08-18 00:32:30.737 python3[10992:234026] Text input context does not respond to _valueForTIProperty:\n",
      "2021-08-18 00:32:30.737 python3[10992:234026] IMKClient Stall detected, *please Report* your user scenario attaching a spindump (or sysdiagnose) that captures the problem - (imkxpc_dismissFunctionRowItemTextInputViewWithReply:) block performed very slowly (2.30 secs).\n"
     ]
    },
    {
     "data": {
      "text/plain": [
       "-1"
      ]
     },
     "execution_count": 55,
     "metadata": {},
     "output_type": "execute_result"
    }
   ],
   "source": [
    "cv2.imshow(\"img\", img_ga)\n",
    "cv2.imshow(\"src\", img)\n",
    "cv2.waitKey(0)\n",
    "cv2.destroyAllWindows()\n",
    "cv2.waitKey(1)"
   ]
  },
  {
   "cell_type": "code",
   "execution_count": 56,
   "id": "e64e16c2-8dd1-44dd-81bb-5008357839bc",
   "metadata": {},
   "outputs": [],
   "source": [
    "# medianBlur フィルター : 5*5 で最も出てきた色で塗りつぶす（中央値） -> 色合いが少なくなるので、画像のタッチが油絵みたいになる\n",
    "img_me = cv2.medianBlur(img, 5)  # 画像 : フィルターの大きさ :"
   ]
  },
  {
   "cell_type": "code",
   "execution_count": 57,
   "id": "3d01970d-f017-450a-b075-4d2678d31ea4",
   "metadata": {},
   "outputs": [
    {
     "data": {
      "text/plain": [
       "-1"
      ]
     },
     "execution_count": 57,
     "metadata": {},
     "output_type": "execute_result"
    }
   ],
   "source": [
    "cv2.imshow(\"img\", img_me)\n",
    "cv2.imshow(\"src\", img)\n",
    "cv2.waitKey(0)\n",
    "cv2.destroyAllWindows()\n",
    "cv2.waitKey(1)"
   ]
  },
  {
   "cell_type": "code",
   "execution_count": 58,
   "id": "dca5f4bd-528b-4804-9e33-aeb17423fdb5",
   "metadata": {},
   "outputs": [],
   "source": [
    "# bilateralFilter : 輝度変化のある部分は残しておいて、輝度変化がなだらかな所を平滑化する\n",
    "img_by = cv2.bilateralFilter(img, 20, 30, 30)  # 画像 : window size : エッジを保存するためのシグマ : シグマ"
   ]
  },
  {
   "cell_type": "code",
   "execution_count": 59,
   "id": "d54840a8-41ec-4031-96b2-88a4f0d5f602",
   "metadata": {},
   "outputs": [
    {
     "name": "stderr",
     "output_type": "stream",
     "text": [
      "2021-08-18 00:32:44.462 python3[10992:234026] _TIPropertyValueIsValid called with 4 on nil context!\n",
      "2021-08-18 00:32:44.462 python3[10992:234026] imkxpc_getApplicationProperty:reply: called with incorrect property value 4, bailing.\n",
      "2021-08-18 00:32:44.462 python3[10992:234026] Text input context does not respond to _valueForTIProperty:\n",
      "2021-08-18 00:32:44.462 python3[10992:234026] _TIPropertyValueIsValid called with 4 on nil context!\n",
      "2021-08-18 00:32:44.463 python3[10992:234026] imkxpc_getApplicationProperty:reply: called with incorrect property value 4, bailing.\n",
      "2021-08-18 00:32:44.463 python3[10992:234026] Text input context does not respond to _valueForTIProperty:\n"
     ]
    },
    {
     "data": {
      "text/plain": [
       "-1"
      ]
     },
     "execution_count": 59,
     "metadata": {},
     "output_type": "execute_result"
    }
   ],
   "source": [
    "cv2.imshow(\"img\", img_by)\n",
    "cv2.imshow(\"src\", img)\n",
    "cv2.waitKey(0)\n",
    "cv2.destroyAllWindows()\n",
    "cv2.waitKey(1)"
   ]
  },
  {
   "cell_type": "markdown",
   "id": "3a20d33e-b298-4693-91d4-ebda9da8b171",
   "metadata": {},
   "source": [
    "エッジを保存しながら、濃淡をなだらかに平滑化する"
   ]
  },
  {
   "cell_type": "markdown",
   "id": "98126e94-7b3c-4031-9261-bd0aa2d356f5",
   "metadata": {
    "tags": []
   },
   "source": [
    "## 画像の微分\n",
    "- 微分とは小さな区間の関数の変化\n",
    "    - 曲線の傾き = X (微分係数)の求め方\n",
    "$$\n",
    "X = \\frac{f(x+dx)-f(x)}{dx}\n",
    "$$\n",
    "\n",
    "- x 〜 x+dx における y の変化量 f(x+dx)\n",
    "\n",
    "傾き = $\\frac{y}{x}$ (yの変化量/xの変化量)\n"
   ]
  },
  {
   "cell_type": "markdown",
   "id": "909991cd-1c7a-4d1f-be82-9dcabc668f52",
   "metadata": {},
   "source": [
    "- 画像の微分も同じように考える事ができる\n",
    "    - 画像処理での微分\n",
    "    - 傾き　＝　隣の画素値 - 自分の画素値\n",
    "- 画素値の場合は隣との距離 px は全て同じ距離(定数)になる\n",
    "#### 画像を微分するとエッジが検出できる"
   ]
  },
  {
   "cell_type": "markdown",
   "id": "8c6dc77c-16b5-4e93-809d-b2fa99dec9d4",
   "metadata": {},
   "source": [
    "## エッジの検出\n",
    "- Sobel filter\n",
    "- Laplacian filter"
   ]
  },
  {
   "cell_type": "code",
   "execution_count": 60,
   "id": "f063cada-e789-426b-8b85-107858c782c2",
   "metadata": {},
   "outputs": [],
   "source": [
    "import cv2"
   ]
  },
  {
   "cell_type": "code",
   "execution_count": 61,
   "id": "1557cd85-8c57-40f9-8051-be730faa0d26",
   "metadata": {},
   "outputs": [
    {
     "name": "stderr",
     "output_type": "stream",
     "text": [
      "2021-08-18 00:33:07.120 python3[10992:234026] IMKClient Stall detected, *please Report* your user scenario attaching a spindump (or sysdiagnose) that captures the problem - (imkxpc_dismissFunctionRowItemTextInputViewWithReply:) block performed very slowly (22.46 secs).\n",
      "2021-08-18 00:33:07.120 python3[10992:234026] IMKClient Stall detected, *please Report* your user scenario attaching a spindump (or sysdiagnose) that captures the problem - (imkxpc_dismissFunctionRowItemTextInputViewWithReply:) block performed very slowly (14.21 secs).\n",
      "2021-08-18 00:33:07.120 python3[10992:234026] _TIPropertyValueIsValid called with 4 on nil context!\n",
      "2021-08-18 00:33:07.120 python3[10992:234026] imkxpc_getApplicationProperty:reply: called with incorrect property value 4, bailing.\n",
      "2021-08-18 00:33:07.120 python3[10992:234026] Text input context does not respond to _valueForTIProperty:\n",
      "2021-08-18 00:33:07.120 python3[10992:234026] _TIPropertyValueIsValid called with 4 on nil context!\n",
      "2021-08-18 00:33:07.120 python3[10992:234026] imkxpc_getApplicationProperty:reply: called with incorrect property value 4, bailing.\n",
      "2021-08-18 00:33:07.120 python3[10992:234026] Text input context does not respond to _valueForTIProperty:\n",
      "2021-08-18 00:33:07.120 python3[10992:234026] IMKClient Stall detected, *please Report* your user scenario attaching a spindump (or sysdiagnose) that captures the problem - (imkxpc_dismissFunctionRowItemTextInputViewWithReply:) block performed very slowly (9.21 secs).\n",
      "2021-08-18 00:33:07.120 python3[10992:234026] IMKClient Stall detected, *please Report* your user scenario attaching a spindump (or sysdiagnose) that captures the problem - (imkxpc_presentFunctionRowItemTextInputViewWithEndpoint:reply:) block performed very slowly (7.21 secs).\n"
     ]
    },
    {
     "data": {
      "text/plain": [
       "-1"
      ]
     },
     "execution_count": 61,
     "metadata": {},
     "output_type": "execute_result"
    }
   ],
   "source": [
    "img = cv2.imread(\"data/src/Lena.jpg\", 0)\n",
    "cv2.imshow(\"img\", img)\n",
    "cv2.waitKey(0)\n",
    "cv2.destroyAllWindows()\n",
    "cv2.waitKey(1)"
   ]
  },
  {
   "cell_type": "markdown",
   "id": "dcd06da7-ce06-4e24-8131-82fc2f2710b8",
   "metadata": {},
   "source": [
    "### Sobel filter をかけていく"
   ]
  },
  {
   "cell_type": "code",
   "execution_count": 62,
   "id": "9396562f-bd7e-4113-959c-5bf78549ec5f",
   "metadata": {},
   "outputs": [],
   "source": [
    "img_sobelx = cv2.Sobel(img, cv2.CV_32F, 1, 0, ksize=3)  # x 方向 : sobel は微分する方向を選ぶ事ができる\n",
    "img_sobely = cv2.Sobel(img, cv2.CV_32F, 0, 1, ksize=3)  # y 方向 : "
   ]
  },
  {
   "cell_type": "code",
   "execution_count": null,
   "id": "0af0d7a4-096b-44ac-8329-cb95a8e9da42",
   "metadata": {},
   "outputs": [],
   "source": []
  },
  {
   "cell_type": "code",
   "execution_count": 63,
   "id": "6c46bac2-7ca5-4d80-bff8-4f18933bf2f0",
   "metadata": {},
   "outputs": [
    {
     "data": {
      "text/plain": [
       "array([[   0.,   -4.,   -6., ...,  -72., -174.,    0.],\n",
       "       [   0.,   -1.,   -5., ...,  -68., -176.,    0.],\n",
       "       [   0.,    3.,   -5., ...,  -58., -169.,    0.],\n",
       "       ...,\n",
       "       [   0.,   31.,   14., ...,   -1.,  -12.,    0.],\n",
       "       [   0.,   51.,   26., ...,    6.,    9.,    0.],\n",
       "       [   0.,   58.,   28., ...,   10.,   20.,    0.]], dtype=float32)"
      ]
     },
     "execution_count": 63,
     "metadata": {},
     "output_type": "execute_result"
    }
   ],
   "source": [
    "img_sobelx"
   ]
  },
  {
   "cell_type": "code",
   "execution_count": 64,
   "id": "6978f22d-1409-4f63-aef5-8f0d9c522161",
   "metadata": {},
   "outputs": [],
   "source": [
    "# 正の値も負の値も入っているので修正する ：　0~256 段階に変換\n",
    "img_sobelx = cv2.convertScaleAbs(img_sobelx)\n",
    "img_sobely = cv2.convertScaleAbs(img_sobely)"
   ]
  },
  {
   "cell_type": "code",
   "execution_count": 65,
   "id": "839bb281-8850-4933-995a-5983501ff44a",
   "metadata": {},
   "outputs": [
    {
     "data": {
      "text/plain": [
       "array([[  0,   4,   6, ...,  72, 174,   0],\n",
       "       [  0,   1,   5, ...,  68, 176,   0],\n",
       "       [  0,   3,   5, ...,  58, 169,   0],\n",
       "       ...,\n",
       "       [  0,  31,  14, ...,   1,  12,   0],\n",
       "       [  0,  51,  26, ...,   6,   9,   0],\n",
       "       [  0,  58,  28, ...,  10,  20,   0]], dtype=uint8)"
      ]
     },
     "execution_count": 65,
     "metadata": {},
     "output_type": "execute_result"
    }
   ],
   "source": [
    "img_sobelx"
   ]
  },
  {
   "cell_type": "code",
   "execution_count": 66,
   "id": "dd5b44bc-038b-4af8-a80b-d8097dbc8b82",
   "metadata": {},
   "outputs": [
    {
     "data": {
      "text/plain": [
       "-1"
      ]
     },
     "execution_count": 66,
     "metadata": {},
     "output_type": "execute_result"
    }
   ],
   "source": [
    "cv2.imshow(\"x\", img_sobelx)\n",
    "cv2.imshow(\"y\", img_sobely)\n",
    "cv2.waitKey(0)\n",
    "cv2.destroyAllWindows()\n",
    "cv2.waitKey(1)"
   ]
  },
  {
   "cell_type": "markdown",
   "id": "3fcaefdb-86ba-4bbf-9b6c-655bb6b0f32d",
   "metadata": {},
   "source": [
    "x 方向　-> 水平方向に微分 -> それと垂直な方向(垂直)方向にエッジが検出されやすい\n",
    "\n",
    "y 方向 -> 垂直方向に微分 -> それと垂直な方向(垂直)方向にエッジが検出されやすい"
   ]
  },
  {
   "cell_type": "markdown",
   "id": "c7f2b29d-3af9-421a-822f-9e5149fc6126",
   "metadata": {},
   "source": [
    "#### Laplacian filter をかける"
   ]
  },
  {
   "cell_type": "code",
   "execution_count": 67,
   "id": "d8485c93-2960-4c9e-8546-936f53b9fcbb",
   "metadata": {},
   "outputs": [],
   "source": [
    "img_lap = cv2.Laplacian(img, cv2.CV_32F)  # 方向がないので、画像と bit深度だけ"
   ]
  },
  {
   "cell_type": "code",
   "execution_count": 68,
   "id": "2c85ce54-ef69-4fc9-97d2-41c4e457c303",
   "metadata": {},
   "outputs": [],
   "source": [
    "img_lap = cv2.convertScaleAbs(img_lap)  # 　絶対値に変換する : 0~256 段階に変換"
   ]
  },
  {
   "cell_type": "code",
   "execution_count": 69,
   "id": "165699ff-8b2d-41fe-8732-baa1e067bfd4",
   "metadata": {},
   "outputs": [],
   "source": [
    "# もっとエッジをハッキリさせたい場合\n",
    "img_lap *= 2  # ２倍するという指示"
   ]
  },
  {
   "cell_type": "code",
   "execution_count": 70,
   "id": "971ef4db-dd6c-4d53-8463-a072c0984800",
   "metadata": {},
   "outputs": [
    {
     "name": "stderr",
     "output_type": "stream",
     "text": [
      "2021-08-18 00:33:42.106 python3[10992:234026] _TIPropertyValueIsValid called with 4 on nil context!\n",
      "2021-08-18 00:33:42.106 python3[10992:234026] imkxpc_getApplicationProperty:reply: called with incorrect property value 4, bailing.\n",
      "2021-08-18 00:33:42.106 python3[10992:234026] Text input context does not respond to _valueForTIProperty:\n",
      "2021-08-18 00:33:42.120 python3[10992:234026] _TIPropertyValueIsValid called with 4 on nil context!\n",
      "2021-08-18 00:33:42.120 python3[10992:234026] imkxpc_getApplicationProperty:reply: called with incorrect property value 4, bailing.\n",
      "2021-08-18 00:33:42.120 python3[10992:234026] Text input context does not respond to _valueForTIProperty:\n"
     ]
    },
    {
     "data": {
      "text/plain": [
       "-1"
      ]
     },
     "execution_count": 70,
     "metadata": {},
     "output_type": "execute_result"
    }
   ],
   "source": [
    "cv2.imshow(\"lap\", img_lap)\n",
    "cv2.waitKey(0)\n",
    "cv2.destroyAllWindows()\n",
    "cv2.waitKey(1)"
   ]
  },
  {
   "cell_type": "markdown",
   "id": "fc6223a6-1fdb-4834-898d-769ec1732c22",
   "metadata": {},
   "source": [
    "- Laplacian は方向がないので全てのエッジが均一に検出されている\n",
    "- 2次の微分なので値そのものが弱い。メリハリがないということ\n",
    "- その場合は img_lap *= 2 を２倍にする。しかし一緒にノイズも載ってしまう\n",
    "    - Gaussianそこで Laplacian Gaussian の出番"
   ]
  },
  {
   "cell_type": "markdown",
   "id": "e745a101-5c95-4aa0-a27a-26861afe5e03",
   "metadata": {},
   "source": [
    "###  Laplacian Gaussian filter をかける"
   ]
  },
  {
   "cell_type": "code",
   "execution_count": 71,
   "id": "cc2baf65-2a28-41ef-b67e-e9d2e7f01156",
   "metadata": {},
   "outputs": [
    {
     "name": "stderr",
     "output_type": "stream",
     "text": [
      "2021-08-18 00:34:08.842 python3[10992:234026] IMKClient Stall detected, *please Report* your user scenario attaching a spindump (or sysdiagnose) that captures the problem - (imkxpc_dismissFunctionRowItemTextInputViewWithReply:) block performed very slowly (26.52 secs).\n",
      "2021-08-18 00:34:08.842 python3[10992:234026] IMKClient Stall detected, *please Report* your user scenario attaching a spindump (or sysdiagnose) that captures the problem - (imkxpc_dismissFunctionRowItemTextInputViewWithReply:) block performed very slowly (9.88 secs).\n",
      "2021-08-18 00:34:08.842 python3[10992:234026] _TIPropertyValueIsValid called with 4 on nil context!\n",
      "2021-08-18 00:34:08.842 python3[10992:234026] imkxpc_getApplicationProperty:reply: called with incorrect property value 4, bailing.\n",
      "2021-08-18 00:34:08.842 python3[10992:234026] Text input context does not respond to _valueForTIProperty:\n",
      "2021-08-18 00:34:08.842 python3[10992:234026] _TIPropertyValueIsValid called with 4 on nil context!\n",
      "2021-08-18 00:34:08.842 python3[10992:234026] imkxpc_getApplicationProperty:reply: called with incorrect property value 4, bailing.\n",
      "2021-08-18 00:34:08.843 python3[10992:234026] Text input context does not respond to _valueForTIProperty:\n",
      "2021-08-18 00:34:08.843 python3[10992:234026] IMKClient Stall detected, *please Report* your user scenario attaching a spindump (or sysdiagnose) that captures the problem - (imkxpc_dismissFunctionRowItemTextInputViewWithReply:) block performed very slowly (4.88 secs).\n",
      "2021-08-18 00:34:08.843 python3[10992:234026] IMKClient Stall detected, *please Report* your user scenario attaching a spindump (or sysdiagnose) that captures the problem - (imkxpc_presentFunctionRowItemTextInputViewWithEndpoint:reply:) block performed very slowly (2.88 secs).\n",
      "2021-08-18 00:34:11.083 python3[10992:234026] _TIPropertyValueIsValid called with 4 on nil context!\n",
      "2021-08-18 00:34:11.083 python3[10992:234026] imkxpc_getApplicationProperty:reply: called with incorrect property value 4, bailing.\n",
      "2021-08-18 00:34:11.083 python3[10992:234026] Text input context does not respond to _valueForTIProperty:\n",
      "2021-08-18 00:34:11.094 python3[10992:234026] _TIPropertyValueIsValid called with 4 on nil context!\n",
      "2021-08-18 00:34:11.094 python3[10992:234026] imkxpc_getApplicationProperty:reply: called with incorrect property value 4, bailing.\n",
      "2021-08-18 00:34:11.094 python3[10992:234026] Text input context does not respond to _valueForTIProperty:\n"
     ]
    },
    {
     "data": {
      "text/plain": [
       "-1"
      ]
     },
     "execution_count": 71,
     "metadata": {},
     "output_type": "execute_result"
    }
   ],
   "source": [
    "img_blur = cv2.GaussianBlur(img, (3, 3), 2)\n",
    "img_lap2 = cv2.Laplacian(img_blur, cv2.CV_32F)\n",
    "img_lap2 = cv2.convertScaleAbs(img_lap2)\n",
    "\n",
    "# もっとエッジをハッキリさせたい場合\n",
    "img_lap2 *= 2  # ２倍するという指示\n",
    "\n",
    "cv2.imshow(\"lap2\", img_lap2)\n",
    "cv2.waitKey(0)\n",
    "cv2.destroyAllWindows()\n",
    "cv2.waitKey(1)"
   ]
  },
  {
   "cell_type": "markdown",
   "id": "31a36113-0847-4368-83bb-f71bbd1c560a",
   "metadata": {
    "jp-MarkdownHeadingCollapsed": true,
    "tags": []
   },
   "source": [
    "blru 処理によってノイスが消えている\n",
    "\n",
    "#### Laplacian Gaussian の方がしっかりとエッジを検出する事ができる"
   ]
  },
  {
   "cell_type": "markdown",
   "id": "f6ea27e6-84e8-4539-9320-be5e35a53f72",
   "metadata": {},
   "source": [
    "## Canny(キャニー)\n",
    "- Canny はノイズをうまく取り除き、エッジを検出する\n",
    "- うまくエッジだけを残している。線画に近い"
   ]
  },
  {
   "cell_type": "code",
   "execution_count": 72,
   "id": "eb55664c-dd8e-4ca3-aaf8-bcb425be8221",
   "metadata": {},
   "outputs": [],
   "source": [
    "import cv2\n",
    "\n",
    "img = cv2.imread(\"data/src/Lena.jpg\", 0)"
   ]
  },
  {
   "cell_type": "code",
   "execution_count": 73,
   "id": "1eb89111-7682-4dad-9bef-9542234dc51a",
   "metadata": {},
   "outputs": [
    {
     "name": "stderr",
     "output_type": "stream",
     "text": [
      "2021-08-18 00:34:25.781 python3[10992:234026] IMKClient Stall detected, *please Report* your user scenario attaching a spindump (or sysdiagnose) that captures the problem - (imkxpc_dismissFunctionRowItemTextInputViewWithReply:) block performed very slowly (14.48 secs).\n",
      "2021-08-18 00:34:25.781 python3[10992:234026] IMKClient Stall detected, *please Report* your user scenario attaching a spindump (or sysdiagnose) that captures the problem - (imkxpc_dismissFunctionRowItemTextInputViewWithReply:) block performed very slowly (12.46 secs).\n",
      "2021-08-18 00:34:25.781 python3[10992:234026] _TIPropertyValueIsValid called with 4 on nil context!\n",
      "2021-08-18 00:34:25.781 python3[10992:234026] imkxpc_getApplicationProperty:reply: called with incorrect property value 4, bailing.\n",
      "2021-08-18 00:34:25.781 python3[10992:234026] Text input context does not respond to _valueForTIProperty:\n",
      "2021-08-18 00:34:25.781 python3[10992:234026] _TIPropertyValueIsValid called with 4 on nil context!\n",
      "2021-08-18 00:34:25.781 python3[10992:234026] imkxpc_getApplicationProperty:reply: called with incorrect property value 4, bailing.\n",
      "2021-08-18 00:34:25.781 python3[10992:234026] Text input context does not respond to _valueForTIProperty:\n",
      "2021-08-18 00:34:25.781 python3[10992:234026] IMKClient Stall detected, *please Report* your user scenario attaching a spindump (or sysdiagnose) that captures the problem - (imkxpc_dismissFunctionRowItemTextInputViewWithReply:) block performed very slowly (7.46 secs).\n",
      "2021-08-18 00:34:25.781 python3[10992:234026] IMKClient Stall detected, *please Report* your user scenario attaching a spindump (or sysdiagnose) that captures the problem - (imkxpc_presentFunctionRowItemTextInputViewWithEndpoint:reply:) block performed very slowly (5.46 secs).\n",
      "2021-08-18 00:34:28.678 python3[10992:234026] _TIPropertyValueIsValid called with 4 on nil context!\n",
      "2021-08-18 00:34:28.678 python3[10992:234026] imkxpc_getApplicationProperty:reply: called with incorrect property value 4, bailing.\n",
      "2021-08-18 00:34:28.678 python3[10992:234026] Text input context does not respond to _valueForTIProperty:\n",
      "2021-08-18 00:34:28.679 python3[10992:234026] _TIPropertyValueIsValid called with 4 on nil context!\n",
      "2021-08-18 00:34:28.679 python3[10992:234026] imkxpc_getApplicationProperty:reply: called with incorrect property value 4, bailing.\n",
      "2021-08-18 00:34:28.679 python3[10992:234026] Text input context does not respond to _valueForTIProperty:\n"
     ]
    },
    {
     "data": {
      "text/plain": [
       "-1"
      ]
     },
     "execution_count": 73,
     "metadata": {},
     "output_type": "execute_result"
    }
   ],
   "source": [
    "img_canny = cv2.Canny(img, 10, 100,)  # Canny 関数 : 画像 : 閾値、小、大(２段階設定)\n",
    "cv2.imshow(\"Canny\", img_canny)\n",
    "cv2.waitKey(0)\n",
    "cv2.destroyAllWindows()\n",
    "cv2.waitKey(1)"
   ]
  },
  {
   "cell_type": "markdown",
   "id": "c6a769e4-76b1-4926-9e4d-6262ca61e426",
   "metadata": {},
   "source": [
    "ノイズのようなものが入っているので、閾値を調整する"
   ]
  },
  {
   "cell_type": "code",
   "execution_count": 74,
   "id": "daea88c2-8254-48aa-963c-6d5099ad3a52",
   "metadata": {},
   "outputs": [
    {
     "name": "stderr",
     "output_type": "stream",
     "text": [
      "2021-08-18 00:34:41.847 python3[10992:234026] IMKClient Stall detected, *please Report* your user scenario attaching a spindump (or sysdiagnose) that captures the problem - (imkxpc_dismissFunctionRowItemTextInputViewWithReply:) block performed very slowly (8.25 secs).\n",
      "2021-08-18 00:34:41.848 python3[10992:234026] _TIPropertyValueIsValid called with 4 on nil context!\n",
      "2021-08-18 00:34:41.848 python3[10992:234026] imkxpc_getApplicationProperty:reply: called with incorrect property value 4, bailing.\n",
      "2021-08-18 00:34:41.848 python3[10992:234026] Text input context does not respond to _valueForTIProperty:\n",
      "2021-08-18 00:34:41.848 python3[10992:234026] _TIPropertyValueIsValid called with 4 on nil context!\n",
      "2021-08-18 00:34:41.848 python3[10992:234026] imkxpc_getApplicationProperty:reply: called with incorrect property value 4, bailing.\n",
      "2021-08-18 00:34:41.848 python3[10992:234026] Text input context does not respond to _valueForTIProperty:\n",
      "2021-08-18 00:34:41.848 python3[10992:234026] IMKClient Stall detected, *please Report* your user scenario attaching a spindump (or sysdiagnose) that captures the problem - (imkxpc_dismissFunctionRowItemTextInputViewWithReply:) block performed very slowly (3.26 secs).\n",
      "2021-08-18 00:34:41.848 python3[10992:234026] IMKClient Stall detected, *please Report* your user scenario attaching a spindump (or sysdiagnose) that captures the problem - (imkxpc_presentFunctionRowItemTextInputViewWithEndpoint:reply:) block performed very slowly (1.27 secs).\n",
      "2021-08-18 00:34:45.933 python3[10992:234026] _TIPropertyValueIsValid called with 4 on nil context!\n",
      "2021-08-18 00:34:45.933 python3[10992:234026] imkxpc_getApplicationProperty:reply: called with incorrect property value 4, bailing.\n",
      "2021-08-18 00:34:45.933 python3[10992:234026] Text input context does not respond to _valueForTIProperty:\n",
      "2021-08-18 00:34:45.934 python3[10992:234026] _TIPropertyValueIsValid called with 4 on nil context!\n",
      "2021-08-18 00:34:45.935 python3[10992:234026] imkxpc_getApplicationProperty:reply: called with incorrect property value 4, bailing.\n",
      "2021-08-18 00:34:45.935 python3[10992:234026] Text input context does not respond to _valueForTIProperty:\n"
     ]
    },
    {
     "data": {
      "text/plain": [
       "-1"
      ]
     },
     "execution_count": 74,
     "metadata": {},
     "output_type": "execute_result"
    }
   ],
   "source": [
    "img_canny = cv2.Canny(img, 100, 200,)  # Canny 関数 : 画像 : 閾値、小、大(２段階設定)\n",
    "cv2.imshow(\"Canny\", img_canny)\n",
    "cv2.waitKey(0)\n",
    "cv2.destroyAllWindows()\n",
    "cv2.waitKey(1)"
   ]
  },
  {
   "cell_type": "markdown",
   "id": "a147d14a-5be0-4f2c-a651-d4ed126cc5aa",
   "metadata": {},
   "source": [
    "## 直線と円の検出"
   ]
  },
  {
   "cell_type": "markdown",
   "id": "e7d34fd3-686f-46cc-a302-57f2d99a9f8c",
   "metadata": {
    "tags": []
   },
   "source": [
    "- 直線は２つのパラメーターによって決まる\n",
    "\n",
    "### 直線の公式\n",
    "$$\n",
    "y = ax + b\n",
    "$$\n",
    "\n",
    "#### a : 傾き, b : 切片\n",
    "\n",
    "### 直線を表す別のパラメーター\n",
    "- $\\rho$(ロー) と $\\theta$(シータ) を使って直線を表すこともできる\n",
    "$\\rho$ : 原点から直線までの最短距離\n",
    "$\\theta$ : x軸から直線までの角度\n",
    "\n",
    "### $\\rho$ と $\\theta$ で表した直線\n",
    "$$\n",
    "y = -\\frac{cos\\theta}{sin\\theta}x + \\frac{\\rho}{sin\\theta}\n",
    "$$\n"
   ]
  },
  {
   "cell_type": "markdown",
   "id": "3968c864-ac14-43fd-9194-8af08c523032",
   "metadata": {},
   "source": [
    "#### 全ての点の$\\theta$ と $\\rho$を集め、一番多かったパラメーターを直線とする\n",
    "1. 画素のある点を探す\n",
    "2. $\\theta$を様々な値に設定し、$\\rho$を計算\n",
    "3. 全ての点に対して 1,2 を繰り返す\n",
    "4. $\\rho$と$\\theta$の出現頻度を集計する\n",
    "5. 出現頻度の最も多いものが直線"
   ]
  },
  {
   "cell_type": "code",
   "execution_count": null,
   "id": "fc9e070a-e340-4c06-b80b-fc7cdd7cae2e",
   "metadata": {},
   "outputs": [],
   "source": []
  }
 ],
 "metadata": {
  "kernelspec": {
   "display_name": "Python 3 (ipykernel)",
   "language": "python",
   "name": "python3"
  },
  "language_info": {
   "codemirror_mode": {
    "name": "ipython",
    "version": 3
   },
   "file_extension": ".py",
   "mimetype": "text/x-python",
   "name": "python",
   "nbconvert_exporter": "python",
   "pygments_lexer": "ipython3",
   "version": "3.9.6"
  }
 },
 "nbformat": 4,
 "nbformat_minor": 5
}
