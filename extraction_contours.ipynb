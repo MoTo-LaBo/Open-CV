{
 "cells": [
  {
   "cell_type": "markdown",
   "id": "84e63383-0e44-4e3a-8eb4-b316ff6dd0af",
   "metadata": {},
   "source": [
    "# 輪郭の抽出"
   ]
  },
  {
   "cell_type": "code",
   "execution_count": 7,
   "id": "dd493786-b664-418b-92c0-f353e764e5ed",
   "metadata": {},
   "outputs": [],
   "source": [
    "import cv2\n",
    "import numpy as np\n",
    "import matplotlib.pyplot as plt"
   ]
  },
  {
   "cell_type": "code",
   "execution_count": 8,
   "id": "3a6d98aa-a235-4abf-8944-1cd793890780",
   "metadata": {},
   "outputs": [
    {
     "data": {
      "text/plain": [
       "-1"
      ]
     },
     "execution_count": 8,
     "metadata": {},
     "output_type": "execute_result"
    }
   ],
   "source": [
    "img = cv2.imread(\"data/src/Blob.png\")\n",
    "img_g = cv2.imread(\"data/src/Blob.png\", 0)\n",
    "cv2.imshow(\"img\", img)\n",
    "cv2.waitKey(0)\n",
    "cv2.destroyAllWindows()\n",
    "cv2.waitKey(1)"
   ]
  },
  {
   "cell_type": "markdown",
   "id": "117e6837-6dea-4e46-8ae3-de4e8c01cd52",
   "metadata": {},
   "source": [
    "#### blob image"
   ]
  },
  {
   "cell_type": "code",
   "execution_count": 9,
   "id": "16b9c323-7857-43a1-8688-f1648982b0bc",
   "metadata": {},
   "outputs": [
    {
     "data": {
      "text/plain": [
       "([], [])"
      ]
     },
     "execution_count": 9,
     "metadata": {},
     "output_type": "execute_result"
    },
    {
     "data": {
      "image/png": "[encoded data removed]",
      "text/plain": [
       "<Figure size 432x288 with 1 Axes>"
      ]
     },
     "metadata": {},
     "output_type": "display_data"
    }
   ],
   "source": [
    "fn = r'static/Blob/Blob.png'\n",
    "img = cv2.imread(fn)\n",
    "imgRGB = img[:, :, [2, 1, 0]]\n",
    "plt.imshow(imgRGB)\n",
    "plt.xticks(ticks=[])\n",
    "plt.yticks(ticks=[])"
   ]
  },
  {
   "cell_type": "markdown",
   "id": "157f0958-985c-425b-90b2-b4a489cd7e4e",
   "metadata": {},
   "source": [
    "### 輪郭を抽出する時も　バイナリーの image が必要になる"
   ]
  },
  {
   "cell_type": "code",
   "execution_count": 10,
   "id": "2104ac81-26f9-4d44-9d95-ccc51007c3f9",
   "metadata": {},
   "outputs": [],
   "source": [
    "ret, img_bi = cv2.threshold(img_g, 100, 255, cv2.THRESH_BINARY)"
   ]
  },
  {
   "cell_type": "code",
   "execution_count": 11,
   "id": "b00d3fa7-dde1-49ca-8669-e2ac52497deb",
   "metadata": {},
   "outputs": [],
   "source": [
    "# RETR_TREE　：　全ての構造の輪郭を検出してくれる / CHAIN_APPROX_SIMPLE : 輪郭を抽出(最低限の情報だけ)\n",
    "contours, hierarchy = cv2.findContours(img_bi, cv2.RETR_TREE, cv2.CHAIN_APPROX_SIMPLE)\n",
    "img_contour = cv2.drawContours(img, contours, -1, (0, 0, 255), 2)  # 全ての輪郭を描かせる場合は -1 : color : 線の太さ"
   ]
  },
  {
   "cell_type": "code",
   "execution_count": 12,
   "id": "4f2f14ba-4e52-45e0-9bdd-68a4e059a5eb",
   "metadata": {},
   "outputs": [
    {
     "data": {
      "text/plain": [
       "-1"
      ]
     },
     "execution_count": 12,
     "metadata": {},
     "output_type": "execute_result"
    }
   ],
   "source": [
    "cv2.imshow(\"img\", img_contour)\n",
    "cv2.waitKey(0)\n",
    "cv2.destroyAllWindows()\n",
    "cv2.waitKey(1)"
   ]
  },
  {
   "cell_type": "markdown",
   "id": "637d1c5b-4718-4c31-bff1-5dcbd68570ef",
   "metadata": {},
   "source": [
    "### 輪郭検出後 blob"
   ]
  },
  {
   "cell_type": "code",
   "execution_count": 13,
   "id": "189bd331-2e38-423d-b2ee-e1b98add93a4",
   "metadata": {},
   "outputs": [
    {
     "data": {
      "text/plain": [
       "([], [])"
      ]
     },
     "execution_count": 13,
     "metadata": {},
     "output_type": "execute_result"
    },
    {
     "data": {
      "image/png": "[encoded data removed]",
      "text/plain": [
       "<Figure size 432x288 with 1 Axes>"
      ]
     },
     "metadata": {},
     "output_type": "display_data"
    }
   ],
   "source": [
    "fn = r'static/Blob/Blob_c.png'\n",
    "img = cv2.imread(fn)\n",
    "imgRGB = img[:, :, [2, 1, 0]]\n",
    "plt.imshow(imgRGB)\n",
    "plt.xticks(ticks=[])\n",
    "plt.yticks(ticks=[])"
   ]
  },
  {
   "cell_type": "markdown",
   "id": "0035a576-a0d2-4903-9113-29164d51bfc9",
   "metadata": {},
   "source": [
    "1. findContours で輪郭を一発で検出し\n",
    "2. drawContours によって外側の輪郭が上手く描かれている = しっかりと輪郭が検出されている"
   ]
  },
  {
   "cell_type": "code",
   "execution_count": null,
   "id": "222057e9-72f9-4efc-9d21-c3f8f217d678",
   "metadata": {},
   "outputs": [],
   "source": []
  }
 ],
 "metadata": {
  "kernelspec": {
   "display_name": "Python 3 (ipykernel)",
   "language": "python",
   "name": "python3"
  },
  "language_info": {
   "codemirror_mode": {
    "name": "ipython",
    "version": 3
   },
   "file_extension": ".py",
   "mimetype": "text/x-python",
   "name": "python",
   "nbconvert_exporter": "python",
   "pygments_lexer": "ipython3",
   "version": "3.9.6"
  }
 },
 "nbformat": 4,
 "nbformat_minor": 5
}
